{
 "cells": [
  {
   "cell_type": "markdown",
   "metadata": {},
   "source": [
    "# Capstone Project: Water Turbidity Prediction through Supervised Machine Learning Techniques\n",
    "\n",
    "Most of water supply in New York City comes from the intake in Kensico reservoir. The water quality in the intake site is measured six times a day.\n",
    "\n",
    "Water Turbidity is the measure of cloudiness of a fluid. A more turbid water would be more diffucult to treat to produce drinking water. Depending on how turbid the water affects the operational decisions of a water supply operator. My hypothesis is the turbidity is affected by the amount of precipitation received on the past 24 hours or so as well as the water level. However, there is no available data on the monitoring of Kensico reservoir level.\n",
    "\n",
    "\n",
    "The Kensico reservoir serves more of a terminal than a storage. It receives water from six main reservoirs. These reservoirs have a water level and flow monitoring.\n",
    "\n",
    "For the precipitation data, I gathered data from seven weather stations that are nearest to Kensico and the other six reservoirs."
   ]
  },
  {
   "cell_type": "markdown",
   "metadata": {},
   "source": [
    "<img src=\"nyreservoirs.png\" style=\"width: 500px;\"/>"
   ]
  },
  {
   "cell_type": "code",
   "execution_count": 1,
   "metadata": {},
   "outputs": [
    {
     "name": "stderr",
     "output_type": "stream",
     "text": [
      "/Users/raei/anaconda3/lib/python3.7/site-packages/matplotlib/__init__.py:855: MatplotlibDeprecationWarning: \n",
      "examples.directory is deprecated; in the future, examples will be found relative to the 'datapath' directory.\n",
      "  \"found relative to the 'datapath' directory.\".format(key))\n",
      "/Users/raei/anaconda3/lib/python3.7/site-packages/matplotlib/__init__.py:846: MatplotlibDeprecationWarning: \n",
      "The text.latex.unicode rcparam was deprecated in Matplotlib 2.2 and will be removed in 3.1.\n",
      "  \"2.2\", name=key, obj_type=\"rcparam\", addendum=addendum)\n",
      "/Users/raei/anaconda3/lib/python3.7/site-packages/seaborn/apionly.py:9: UserWarning: As seaborn no longer sets a default style on import, the seaborn.apionly module is deprecated. It will be removed in a future version.\n",
      "  warnings.warn(msg, UserWarning)\n"
     ]
    }
   ],
   "source": [
    "import pandas as pd\n",
    "import numpy as np\n",
    "import matplotlib.pyplot as plt\n",
    "import seaborn.apionly as sns\n",
    "%matplotlib inline\n",
    "import datetime\n",
    "from datetime import timedelta"
   ]
  },
  {
   "cell_type": "markdown",
   "metadata": {},
   "source": [
    "Datasets:\n",
    "* New York Watershed Quality Data from [NYC Open Data](https://opendata.cityofnewyork.us/)\n",
    "* New York Reservoir Data from [NYC Open Data](https://opendata.cityofnewyork.us/)\n",
    "* New York Weather Data from [NOAA](https://www.noaa.gov/)"
   ]
  },
  {
   "cell_type": "markdown",
   "metadata": {},
   "source": [
    "# Kensico Reservoir\n",
    "## Turbidity\n",
    "Turbidity is the Target Variable"
   ]
  },
  {
   "cell_type": "code",
   "execution_count": 2,
   "metadata": {},
   "outputs": [
    {
     "data": {
      "text/plain": [
       "(1670, 1)"
      ]
     },
     "execution_count": 2,
     "metadata": {},
     "output_type": "execute_result"
    }
   ],
   "source": [
    "ntu = pd.read_csv('waterquality.csv', usecols=['Date', 'Average 24hrTurbidity(NTU)'])\n",
    "ntu['Date'] = pd.to_datetime(ntu['Date'], format = '%m/%d/%Y')\n",
    "ntu = ntu.rename({'Date': 'DATE'}, axis=1)\n",
    "ntu = ntu.rename({'Average 24hrTurbidity(NTU)': 'NTU'}, axis=1)\n",
    "ntu = ntu.sort_values(by='DATE', ascending=True)\n",
    "ntu.set_index('DATE', inplace=True)\n",
    "ntu.shape"
   ]
  },
  {
   "cell_type": "code",
   "execution_count": 3,
   "metadata": {},
   "outputs": [
    {
     "data": {
      "text/html": [
       "<div>\n",
       "<style scoped>\n",
       "    .dataframe tbody tr th:only-of-type {\n",
       "        vertical-align: middle;\n",
       "    }\n",
       "\n",
       "    .dataframe tbody tr th {\n",
       "        vertical-align: top;\n",
       "    }\n",
       "\n",
       "    .dataframe thead th {\n",
       "        text-align: right;\n",
       "    }\n",
       "</style>\n",
       "<table border=\"1\" class=\"dataframe\">\n",
       "  <thead>\n",
       "    <tr style=\"text-align: right;\">\n",
       "      <th></th>\n",
       "      <th>NTU</th>\n",
       "    </tr>\n",
       "    <tr>\n",
       "      <th>DATE</th>\n",
       "      <th></th>\n",
       "    </tr>\n",
       "  </thead>\n",
       "  <tbody>\n",
       "    <tr>\n",
       "      <th>2015-05-10</th>\n",
       "      <td>0.98</td>\n",
       "    </tr>\n",
       "    <tr>\n",
       "      <th>2019-06-04</th>\n",
       "      <td>0.78</td>\n",
       "    </tr>\n",
       "  </tbody>\n",
       "</table>\n",
       "</div>"
      ],
      "text/plain": [
       "             NTU\n",
       "DATE            \n",
       "2015-05-10  0.98\n",
       "2019-06-04  0.78"
      ]
     },
     "execution_count": 3,
     "metadata": {},
     "output_type": "execute_result"
    }
   ],
   "source": [
    "ntu.iloc[[0, -1]]"
   ]
  },
  {
   "cell_type": "code",
   "execution_count": 4,
   "metadata": {},
   "outputs": [
    {
     "data": {
      "text/plain": [
       "1487"
      ]
     },
     "execution_count": 4,
     "metadata": {},
     "output_type": "execute_result"
    }
   ],
   "source": [
    "len(pd.date_range('2015-05-10', '2019-06-04'))"
   ]
  },
  {
   "cell_type": "markdown",
   "metadata": {},
   "source": [
    "There should be 1 data point for each day or 1487 data points. Given that there are 1670 data points in the dataframe, the duplicates must be removed."
   ]
  },
  {
   "cell_type": "code",
   "execution_count": 5,
   "metadata": {},
   "outputs": [],
   "source": [
    "ntu = ntu.loc[~ntu.index.duplicated(keep='first')]"
   ]
  },
  {
   "cell_type": "code",
   "execution_count": 6,
   "metadata": {},
   "outputs": [
    {
     "data": {
      "text/plain": [
       "1485"
      ]
     },
     "execution_count": 6,
     "metadata": {},
     "output_type": "execute_result"
    }
   ],
   "source": [
    "len(ntu)"
   ]
  },
  {
   "cell_type": "markdown",
   "metadata": {},
   "source": [
    "Let's confirm if there are missing dates in the dataframe."
   ]
  },
  {
   "cell_type": "code",
   "execution_count": 7,
   "metadata": {},
   "outputs": [
    {
     "data": {
      "text/plain": [
       "DatetimeIndex(['2015-07-29', '2018-02-01'], dtype='datetime64[ns]', freq=None)"
      ]
     },
     "execution_count": 7,
     "metadata": {},
     "output_type": "execute_result"
    }
   ],
   "source": [
    "pd.date_range(start = '2015-05-10', end = '2019-06-04').difference(ntu.index)"
   ]
  },
  {
   "cell_type": "markdown",
   "metadata": {},
   "source": [
    "Adding the missing dates to the dataframe and filling in the missing values through interpolation."
   ]
  },
  {
   "cell_type": "code",
   "execution_count": 8,
   "metadata": {},
   "outputs": [
    {
     "data": {
      "text/plain": [
       "NTU    0\n",
       "dtype: int64"
      ]
     },
     "execution_count": 8,
     "metadata": {},
     "output_type": "execute_result"
    }
   ],
   "source": [
    "idx = pd.date_range('2015-05-10', '2019-06-04')\n",
    "ntu = ntu.reindex(idx, fill_value=np.nan)\n",
    "ntu = ntu.interpolate()\n",
    "ntu.isna().sum()"
   ]
  },
  {
   "cell_type": "code",
   "execution_count": 9,
   "metadata": {},
   "outputs": [
    {
     "name": "stdout",
     "output_type": "stream",
     "text": [
      "              NTU\n",
      "2015-07-27  0.540\n",
      "2015-07-28  0.600\n",
      "2015-07-29  0.605\n",
      "2015-07-30  0.610\n",
      "2015-07-31  0.630\n",
      "              NTU\n",
      "2018-01-30  0.900\n",
      "2018-01-31  0.880\n",
      "2018-02-01  0.855\n",
      "2018-02-02  0.830\n",
      "2018-02-03  0.860\n"
     ]
    }
   ],
   "source": [
    "#Checking the interpolated values\n",
    "print(ntu[(ntu.index >= '2015-07-27') & (ntu.index < '2015-08-01')])\n",
    "print(ntu[(ntu.index > '2018-01-29') & (ntu.index <= '2018-02-03')])"
   ]
  },
  {
   "cell_type": "markdown",
   "metadata": {},
   "source": [
    "There are 1487 data points of average turbidity in the raw water intake from the Kensico reservoir."
   ]
  },
  {
   "cell_type": "code",
   "execution_count": 10,
   "metadata": {},
   "outputs": [
    {
     "data": {
      "image/png": "[encoded data removed]",
      "text/plain": [
       "<Figure size 1440x360 with 1 Axes>"
      ]
     },
     "metadata": {
      "needs_background": "light"
     },
     "output_type": "display_data"
    }
   ],
   "source": [
    "ntu.plot(figsize=(20,5), fontsize=15)\n",
    "plt.title('Turbidity at Kensico Intake', fontsize=15)\n",
    "plt.legend('')\n",
    "plt.savefig('turbidity.png', dpi=500)"
   ]
  },
  {
   "cell_type": "code",
   "execution_count": 11,
   "metadata": {},
   "outputs": [
    {
     "data": {
      "image/png": "[encoded data removed]",
      "text/plain": [
       "<Figure size 720x360 with 1 Axes>"
      ]
     },
     "metadata": {
      "needs_background": "light"
     },
     "output_type": "display_data"
    }
   ],
   "source": [
    "ntu.plot(figsize=(10,5), color='#01afd1')\n",
    "plt.title('Turbidity at Reservoir 1 Intake', fontsize=15)\n",
    "plt.xlim('2017-11-01','2019-05-31')\n",
    "plt.legend('')\n",
    "plt.savefig('turb.png', dpi=500, transparent=True)"
   ]
  },
  {
   "cell_type": "markdown",
   "metadata": {},
   "source": [
    "## Precipitation"
   ]
  },
  {
   "cell_type": "code",
   "execution_count": 12,
   "metadata": {},
   "outputs": [
    {
     "data": {
      "text/plain": [
       "['WHITE PLAINS 3.1 NNW, NY US',\n",
       " 'ARMONK 0.3 SE, NY US',\n",
       " 'ARMONK 0.4 E, NY US',\n",
       " 'ELMSFORD 0.8 SSW, NY US',\n",
       " 'WESTCHESTER CO AIRPORT, NY US']"
      ]
     },
     "execution_count": 12,
     "metadata": {},
     "output_type": "execute_result"
    }
   ],
   "source": [
    "ken = pd.read_csv('del18weatherdata.csv', usecols=['DATE','NAME','PRCP'])\n",
    "ken['NAME'].unique().tolist()"
   ]
  },
  {
   "cell_type": "code",
   "execution_count": 13,
   "metadata": {},
   "outputs": [],
   "source": [
    "ken = ken[ken['NAME']=='WESTCHESTER CO AIRPORT, NY US']"
   ]
  },
  {
   "cell_type": "markdown",
   "metadata": {},
   "source": [
    "I will create a function to apply the same manipulation technique applied to the turbidity dataset earlier. However, instead of interpolating the missing values, I will replace them with zero or no precipitation."
   ]
  },
  {
   "cell_type": "code",
   "execution_count": 14,
   "metadata": {},
   "outputs": [],
   "source": [
    "def prcp(df):\n",
    "    if 'NAME' in df.columns:\n",
    "        df = df.drop(columns='NAME')\n",
    "    else:\n",
    "        pass\n",
    "    df['DATE'] = pd.to_datetime(df['DATE'], format = '%Y-%m-%d')\n",
    "    df = df.sort_values(by='DATE', ascending=True)\n",
    "    df.set_index('DATE', inplace=True)\n",
    "    df = df.loc[~df.index.duplicated(keep='first')] \n",
    "    df = df.replace(np.nan, 0)\n",
    "    start_date = str(df.index[0].date())\n",
    "    end_date = str(df.index[-1].date())\n",
    "    idx = pd.date_range(start_date, end_date)\n",
    "    df = df.reindex(idx, fill_value=0)\n",
    "    return df"
   ]
  },
  {
   "cell_type": "code",
   "execution_count": 15,
   "metadata": {},
   "outputs": [],
   "source": [
    "ken = prcp(ken)"
   ]
  },
  {
   "cell_type": "markdown",
   "metadata": {},
   "source": [
    "**Merging the datasets**"
   ]
  },
  {
   "cell_type": "code",
   "execution_count": 16,
   "metadata": {},
   "outputs": [
    {
     "data": {
      "text/html": [
       "<div>\n",
       "<style scoped>\n",
       "    .dataframe tbody tr th:only-of-type {\n",
       "        vertical-align: middle;\n",
       "    }\n",
       "\n",
       "    .dataframe tbody tr th {\n",
       "        vertical-align: top;\n",
       "    }\n",
       "\n",
       "    .dataframe thead th {\n",
       "        text-align: right;\n",
       "    }\n",
       "</style>\n",
       "<table border=\"1\" class=\"dataframe\">\n",
       "  <thead>\n",
       "    <tr style=\"text-align: right;\">\n",
       "      <th></th>\n",
       "      <th>NTU</th>\n",
       "    </tr>\n",
       "  </thead>\n",
       "  <tbody>\n",
       "    <tr>\n",
       "      <th>2015-05-11</th>\n",
       "      <td>0.98</td>\n",
       "    </tr>\n",
       "    <tr>\n",
       "      <th>2015-05-12</th>\n",
       "      <td>1.04</td>\n",
       "    </tr>\n",
       "    <tr>\n",
       "      <th>2015-05-13</th>\n",
       "      <td>1.04</td>\n",
       "    </tr>\n",
       "    <tr>\n",
       "      <th>2015-05-14</th>\n",
       "      <td>0.97</td>\n",
       "    </tr>\n",
       "    <tr>\n",
       "      <th>2015-05-15</th>\n",
       "      <td>0.99</td>\n",
       "    </tr>\n",
       "  </tbody>\n",
       "</table>\n",
       "</div>"
      ],
      "text/plain": [
       "             NTU\n",
       "2015-05-11  0.98\n",
       "2015-05-12  1.04\n",
       "2015-05-13  1.04\n",
       "2015-05-14  0.97\n",
       "2015-05-15  0.99"
      ]
     },
     "execution_count": 16,
     "metadata": {},
     "output_type": "execute_result"
    }
   ],
   "source": [
    "# Assuming that the turbidity will be affected by the variables a day after\n",
    "ntu.index = ntu.index + timedelta(days=1)\n",
    "ntu.head()"
   ]
  },
  {
   "cell_type": "code",
   "execution_count": 17,
   "metadata": {},
   "outputs": [
    {
     "data": {
      "text/plain": [
       "1487"
      ]
     },
     "execution_count": 17,
     "metadata": {},
     "output_type": "execute_result"
    }
   ],
   "source": [
    "data_k = ntu.join(ken)\n",
    "len(data_k)"
   ]
  },
  {
   "cell_type": "code",
   "execution_count": 18,
   "metadata": {},
   "outputs": [
    {
     "data": {
      "text/plain": [
       "<matplotlib.legend.Legend at 0x1a25360668>"
      ]
     },
     "execution_count": 18,
     "metadata": {},
     "output_type": "execute_result"
    },
    {
     "data": {
      "image/png": "[encoded data removed]",
      "text/plain": [
       "<Figure size 1440x720 with 2 Axes>"
      ]
     },
     "metadata": {
      "needs_background": "light"
     },
     "output_type": "display_data"
    }
   ],
   "source": [
    "data_k.plot(subplots=True, figsize=(20, 10))\n",
    "plt.legend(loc='best')"
   ]
  },
  {
   "cell_type": "code",
   "execution_count": 19,
   "metadata": {},
   "outputs": [
    {
     "data": {
      "text/html": [
       "<div>\n",
       "<style scoped>\n",
       "    .dataframe tbody tr th:only-of-type {\n",
       "        vertical-align: middle;\n",
       "    }\n",
       "\n",
       "    .dataframe tbody tr th {\n",
       "        vertical-align: top;\n",
       "    }\n",
       "\n",
       "    .dataframe thead th {\n",
       "        text-align: right;\n",
       "    }\n",
       "</style>\n",
       "<table border=\"1\" class=\"dataframe\">\n",
       "  <thead>\n",
       "    <tr style=\"text-align: right;\">\n",
       "      <th></th>\n",
       "      <th>NTU</th>\n",
       "      <th>PRCP</th>\n",
       "    </tr>\n",
       "  </thead>\n",
       "  <tbody>\n",
       "    <tr>\n",
       "      <th>NTU</th>\n",
       "      <td>1.000000</td>\n",
       "      <td>-0.032435</td>\n",
       "    </tr>\n",
       "    <tr>\n",
       "      <th>PRCP</th>\n",
       "      <td>-0.032435</td>\n",
       "      <td>1.000000</td>\n",
       "    </tr>\n",
       "  </tbody>\n",
       "</table>\n",
       "</div>"
      ],
      "text/plain": [
       "           NTU      PRCP\n",
       "NTU   1.000000 -0.032435\n",
       "PRCP -0.032435  1.000000"
      ]
     },
     "execution_count": 19,
     "metadata": {},
     "output_type": "execute_result"
    }
   ],
   "source": [
    "data_k.corr()"
   ]
  },
  {
   "cell_type": "markdown",
   "metadata": {},
   "source": [
    "Based on the plot and correlation, the precipitation in Kensico area is not enough to predict the turbidity.\n",
    "Other factors such as elevation and flow should be put into consideration. However, since these information about the Kensico reservoir is not readiliy available,\n",
    "I will consider the behavior of the six reservoirs wherein the Kensico reservoir gets its water."
   ]
  },
  {
   "cell_type": "markdown",
   "metadata": {},
   "source": [
    "# Considering the Six Reservoirs\n",
    "Regarding the reservoir dataset, the limitation is that it starts from November 2017. If I decide to take the reservoir levels into considerations, I will be dropping 976 data points.\n",
    "The six reservoirs are:\n",
    "1. Ashokan / A\n",
    "2. Schoharie / S\n",
    "3. Rondout / REC\n",
    "4. Neversink / NIC\n",
    "5. Pepacton / ED\n",
    "6. Cannonsville / WD"
   ]
  },
  {
   "cell_type": "code",
   "execution_count": 20,
   "metadata": {},
   "outputs": [],
   "source": [
    "levels = pd.read_csv('reservoirlevels.csv')\n",
    "levels = levels.rename({'Point_time': 'DATE'}, axis=1)\n",
    "levels['DATE'] = pd.to_datetime(levels['DATE'], format = '%m/%d/%Y')"
   ]
  },
  {
   "cell_type": "code",
   "execution_count": 21,
   "metadata": {},
   "outputs": [],
   "source": [
    "levels = levels.sort_values(by='DATE', ascending=True)\n",
    "levels.set_index('DATE', inplace=True)"
   ]
  },
  {
   "cell_type": "code",
   "execution_count": 22,
   "metadata": {},
   "outputs": [
    {
     "data": {
      "text/html": [
       "<div>\n",
       "<style scoped>\n",
       "    .dataframe tbody tr th:only-of-type {\n",
       "        vertical-align: middle;\n",
       "    }\n",
       "\n",
       "    .dataframe tbody tr th {\n",
       "        vertical-align: top;\n",
       "    }\n",
       "\n",
       "    .dataframe thead th {\n",
       "        text-align: right;\n",
       "    }\n",
       "</style>\n",
       "<table border=\"1\" class=\"dataframe\">\n",
       "  <thead>\n",
       "    <tr style=\"text-align: right;\">\n",
       "      <th></th>\n",
       "      <th>AUGEVolume</th>\n",
       "      <th>AUGEASTLEVANALOG</th>\n",
       "      <th>AUGWVOLUME</th>\n",
       "      <th>AUGWESTLEVANALOG</th>\n",
       "      <th>ASHREL</th>\n",
       "      <th>SICRESVOLUME</th>\n",
       "      <th>SICRESELEVANALOG</th>\n",
       "      <th>STPALBFLW</th>\n",
       "      <th>RECRESVOLUME</th>\n",
       "      <th>RECRESELEVANALOG</th>\n",
       "      <th>...</th>\n",
       "      <th>NICSTHFLW</th>\n",
       "      <th>NICCONFLW</th>\n",
       "      <th>EDIRESVOLUME</th>\n",
       "      <th>EDIRESELEVANALOG</th>\n",
       "      <th>EDRNTHFLW</th>\n",
       "      <th>EDRSTHFLW</th>\n",
       "      <th>EDRCONFLW</th>\n",
       "      <th>WDIRESVOLUME</th>\n",
       "      <th>WDIRESELEVANALOG</th>\n",
       "      <th>WDRFLW</th>\n",
       "    </tr>\n",
       "    <tr>\n",
       "      <th>DATE</th>\n",
       "      <th></th>\n",
       "      <th></th>\n",
       "      <th></th>\n",
       "      <th></th>\n",
       "      <th></th>\n",
       "      <th></th>\n",
       "      <th></th>\n",
       "      <th></th>\n",
       "      <th></th>\n",
       "      <th></th>\n",
       "      <th></th>\n",
       "      <th></th>\n",
       "      <th></th>\n",
       "      <th></th>\n",
       "      <th></th>\n",
       "      <th></th>\n",
       "      <th></th>\n",
       "      <th></th>\n",
       "      <th></th>\n",
       "      <th></th>\n",
       "      <th></th>\n",
       "    </tr>\n",
       "  </thead>\n",
       "  <tbody>\n",
       "    <tr>\n",
       "      <th>2017-11-01</th>\n",
       "      <td>65.36</td>\n",
       "      <td>577.86</td>\n",
       "      <td>36.34</td>\n",
       "      <td>577.89</td>\n",
       "      <td>18</td>\n",
       "      <td>12.92</td>\n",
       "      <td>1109.86</td>\n",
       "      <td>0.0</td>\n",
       "      <td>47.26</td>\n",
       "      <td>835.85</td>\n",
       "      <td>...</td>\n",
       "      <td>0.0</td>\n",
       "      <td>0.0</td>\n",
       "      <td>116.60</td>\n",
       "      <td>1264.45</td>\n",
       "      <td>51.7</td>\n",
       "      <td>0.0</td>\n",
       "      <td>0.0</td>\n",
       "      <td>47.69</td>\n",
       "      <td>1112.87</td>\n",
       "      <td>97.3</td>\n",
       "    </tr>\n",
       "    <tr>\n",
       "      <th>2019-05-31</th>\n",
       "      <td>77.12</td>\n",
       "      <td>586.23</td>\n",
       "      <td>44.94</td>\n",
       "      <td>590.01</td>\n",
       "      <td>21</td>\n",
       "      <td>18.34</td>\n",
       "      <td>1130.16</td>\n",
       "      <td>120.2</td>\n",
       "      <td>48.89</td>\n",
       "      <td>839.11</td>\n",
       "      <td>...</td>\n",
       "      <td>60.8</td>\n",
       "      <td>0.0</td>\n",
       "      <td>141.33</td>\n",
       "      <td>1279.19</td>\n",
       "      <td>47.6</td>\n",
       "      <td>49.2</td>\n",
       "      <td>0.0</td>\n",
       "      <td>94.70</td>\n",
       "      <td>1150.20</td>\n",
       "      <td>322.6</td>\n",
       "    </tr>\n",
       "  </tbody>\n",
       "</table>\n",
       "<p>2 rows × 24 columns</p>\n",
       "</div>"
      ],
      "text/plain": [
       "            AUGEVolume  AUGEASTLEVANALOG  AUGWVOLUME  AUGWESTLEVANALOG  \\\n",
       "DATE                                                                     \n",
       "2017-11-01       65.36            577.86       36.34            577.89   \n",
       "2019-05-31       77.12            586.23       44.94            590.01   \n",
       "\n",
       "            ASHREL  SICRESVOLUME  SICRESELEVANALOG  STPALBFLW  RECRESVOLUME  \\\n",
       "DATE                                                                          \n",
       "2017-11-01      18         12.92           1109.86        0.0         47.26   \n",
       "2019-05-31      21         18.34           1130.16      120.2         48.89   \n",
       "\n",
       "            RECRESELEVANALOG  ...  NICSTHFLW  NICCONFLW  EDIRESVOLUME  \\\n",
       "DATE                          ...                                       \n",
       "2017-11-01            835.85  ...        0.0        0.0        116.60   \n",
       "2019-05-31            839.11  ...       60.8        0.0        141.33   \n",
       "\n",
       "            EDIRESELEVANALOG  EDRNTHFLW  EDRSTHFLW  EDRCONFLW  WDIRESVOLUME  \\\n",
       "DATE                                                                          \n",
       "2017-11-01           1264.45       51.7        0.0        0.0         47.69   \n",
       "2019-05-31           1279.19       47.6       49.2        0.0         94.70   \n",
       "\n",
       "            WDIRESELEVANALOG  WDRFLW  \n",
       "DATE                                  \n",
       "2017-11-01           1112.87    97.3  \n",
       "2019-05-31           1150.20   322.6  \n",
       "\n",
       "[2 rows x 24 columns]"
      ]
     },
     "execution_count": 22,
     "metadata": {},
     "output_type": "execute_result"
    }
   ],
   "source": [
    "levels.iloc[[0, -1]]"
   ]
  },
  {
   "cell_type": "code",
   "execution_count": 23,
   "metadata": {},
   "outputs": [
    {
     "name": "stdout",
     "output_type": "stream",
     "text": [
      "577\n",
      "577\n"
     ]
    }
   ],
   "source": [
    "print(len(pd.date_range('2017-11-01', '2019-05-31')))\n",
    "print(len(levels))"
   ]
  },
  {
   "cell_type": "code",
   "execution_count": 24,
   "metadata": {},
   "outputs": [
    {
     "data": {
      "text/plain": [
       "AUGEVolume          0\n",
       "AUGEASTLEVANALOG    0\n",
       "AUGWVOLUME          0\n",
       "AUGWESTLEVANALOG    0\n",
       "ASHREL              0\n",
       "SICRESVOLUME        0\n",
       "SICRESELEVANALOG    0\n",
       "STPALBFLW           0\n",
       "RECRESVOLUME        0\n",
       "RECRESELEVANALOG    0\n",
       "RECREL              0\n",
       "NICRESVOLUME        0\n",
       "NICRESELEVANALOG    0\n",
       "NICNTHFLW           0\n",
       "NICSTHFLW           0\n",
       "NICCONFLW           0\n",
       "EDIRESVOLUME        0\n",
       "EDIRESELEVANALOG    0\n",
       "EDRNTHFLW           0\n",
       "EDRSTHFLW           0\n",
       "EDRCONFLW           0\n",
       "WDIRESVOLUME        0\n",
       "WDIRESELEVANALOG    0\n",
       "WDRFLW              0\n",
       "dtype: int64"
      ]
     },
     "execution_count": 24,
     "metadata": {},
     "output_type": "execute_result"
    }
   ],
   "source": [
    "levels.isna().sum()"
   ]
  },
  {
   "cell_type": "code",
   "execution_count": 25,
   "metadata": {},
   "outputs": [],
   "source": [
    "weather = pd.read_csv('reservoir_weather.csv', usecols = ['NAME','DATE', 'PRCP'])\n",
    "REC = pd.read_csv('RECweather.csv',usecols = ['DATE', 'PRCP'])"
   ]
  },
  {
   "cell_type": "code",
   "execution_count": 26,
   "metadata": {},
   "outputs": [
    {
     "data": {
      "text/plain": [
       "['WEST HURLEY 0.1 S, NY US',\n",
       " 'WALTON 6.5 W, NY US',\n",
       " 'KERHONKSON 3.7 N, NY US',\n",
       " 'LONG EDDY 6.5 NNE, NY US',\n",
       " 'CALLICOON CENTER, NY US',\n",
       " 'LANSING MANOR, NY US']"
      ]
     },
     "execution_count": 26,
     "metadata": {},
     "output_type": "execute_result"
    }
   ],
   "source": [
    "weather['NAME'].unique().tolist()"
   ]
  },
  {
   "cell_type": "markdown",
   "metadata": {},
   "source": [
    "1. Ashokan / A - West Hurley\n",
    "2. Schoharie / S - Lansing\n",
    "3. Rondout / REC\n",
    "4. Neversink / NIC - Callicoon\n",
    "5. Pepacton / ED - Long Eddy\n",
    "6. Cannonsville / WD - Walton"
   ]
  },
  {
   "cell_type": "code",
   "execution_count": 27,
   "metadata": {},
   "outputs": [],
   "source": [
    "A = weather[weather['NAME']=='WEST HURLEY 0.1 S, NY US']\n",
    "A = A.rename({'PRCP': 'PRCP_A'}, axis=1)\n",
    "A = prcp(A)\n",
    "S = weather[weather['NAME']=='LANSING MANOR, NY US']\n",
    "S = S.rename({'PRCP': 'PRCP_S'}, axis=1)\n",
    "S = prcp(S)\n",
    "REC = REC.rename({'PRCP': 'PRCP_REC'}, axis=1)\n",
    "REC = prcp(REC)\n",
    "NIC = weather[weather['NAME']=='CALLICOON CENTER, NY US']\n",
    "NIC = NIC.rename({'PRCP': 'PRCP_NIC'}, axis=1)\n",
    "NIC = prcp(NIC)\n",
    "ED = weather[weather['NAME']=='LONG EDDY 6.5 NNE, NY US']\n",
    "ED = ED.rename({'PRCP': 'PRCP_ED'}, axis=1)\n",
    "ED = prcp(ED)\n",
    "WD = weather[weather['NAME']=='WALTON 6.5 W, NY US']\n",
    "WD = WD.rename({'PRCP': 'PRCP_WD'}, axis=1)\n",
    "WD = prcp(WD)"
   ]
  },
  {
   "cell_type": "code",
   "execution_count": 28,
   "metadata": {},
   "outputs": [],
   "source": [
    "from functools import reduce\n",
    "dfs = [ken, A, S, REC, NIC, ED, WD]\n",
    "wea = reduce(lambda left,right: pd.merge(left,right, left_index=True, right_index=True, how='inner'), dfs)"
   ]
  },
  {
   "cell_type": "code",
   "execution_count": 29,
   "metadata": {},
   "outputs": [
    {
     "name": "stdout",
     "output_type": "stream",
     "text": [
      "(577, 7)\n"
     ]
    },
    {
     "data": {
      "text/html": [
       "<div>\n",
       "<style scoped>\n",
       "    .dataframe tbody tr th:only-of-type {\n",
       "        vertical-align: middle;\n",
       "    }\n",
       "\n",
       "    .dataframe tbody tr th {\n",
       "        vertical-align: top;\n",
       "    }\n",
       "\n",
       "    .dataframe thead th {\n",
       "        text-align: right;\n",
       "    }\n",
       "</style>\n",
       "<table border=\"1\" class=\"dataframe\">\n",
       "  <thead>\n",
       "    <tr style=\"text-align: right;\">\n",
       "      <th></th>\n",
       "      <th>PRCP</th>\n",
       "      <th>PRCP_A</th>\n",
       "      <th>PRCP_S</th>\n",
       "      <th>PRCP_REC</th>\n",
       "      <th>PRCP_NIC</th>\n",
       "      <th>PRCP_ED</th>\n",
       "      <th>PRCP_WD</th>\n",
       "    </tr>\n",
       "  </thead>\n",
       "  <tbody>\n",
       "    <tr>\n",
       "      <th>2017-11-01</th>\n",
       "      <td>0.0</td>\n",
       "      <td>0.00</td>\n",
       "      <td>0.0</td>\n",
       "      <td>0.0</td>\n",
       "      <td>0.00</td>\n",
       "      <td>0.0</td>\n",
       "      <td>0.00</td>\n",
       "    </tr>\n",
       "    <tr>\n",
       "      <th>2019-05-31</th>\n",
       "      <td>0.3</td>\n",
       "      <td>0.02</td>\n",
       "      <td>0.0</td>\n",
       "      <td>5.3</td>\n",
       "      <td>0.15</td>\n",
       "      <td>0.1</td>\n",
       "      <td>0.37</td>\n",
       "    </tr>\n",
       "  </tbody>\n",
       "</table>\n",
       "</div>"
      ],
      "text/plain": [
       "            PRCP  PRCP_A  PRCP_S  PRCP_REC  PRCP_NIC  PRCP_ED  PRCP_WD\n",
       "2017-11-01   0.0    0.00     0.0       0.0      0.00      0.0     0.00\n",
       "2019-05-31   0.3    0.02     0.0       5.3      0.15      0.1     0.37"
      ]
     },
     "execution_count": 29,
     "metadata": {},
     "output_type": "execute_result"
    }
   ],
   "source": [
    "print(wea.shape)\n",
    "wea.iloc[[0,-1]]"
   ]
  },
  {
   "cell_type": "code",
   "execution_count": 30,
   "metadata": {},
   "outputs": [
    {
     "data": {
      "text/plain": [
       "0.41594454072790293"
      ]
     },
     "execution_count": 30,
     "metadata": {},
     "output_type": "execute_result"
    }
   ],
   "source": [
    "len(wea['PRCP'][(wea['PRCP'] >= 0.1)])/len(wea)"
   ]
  },
  {
   "cell_type": "code",
   "execution_count": 31,
   "metadata": {},
   "outputs": [
    {
     "data": {
      "text/plain": [
       "PRCP        0\n",
       "PRCP_A      0\n",
       "PRCP_S      0\n",
       "PRCP_REC    0\n",
       "PRCP_NIC    0\n",
       "PRCP_ED     0\n",
       "PRCP_WD     0\n",
       "dtype: int64"
      ]
     },
     "execution_count": 31,
     "metadata": {},
     "output_type": "execute_result"
    }
   ],
   "source": [
    "wea.isna().sum()"
   ]
  },
  {
   "cell_type": "code",
   "execution_count": 32,
   "metadata": {},
   "outputs": [],
   "source": [
    "data_l = levels.join(wea)"
   ]
  },
  {
   "cell_type": "code",
   "execution_count": 33,
   "metadata": {},
   "outputs": [
    {
     "data": {
      "text/html": [
       "<div>\n",
       "<style scoped>\n",
       "    .dataframe tbody tr th:only-of-type {\n",
       "        vertical-align: middle;\n",
       "    }\n",
       "\n",
       "    .dataframe tbody tr th {\n",
       "        vertical-align: top;\n",
       "    }\n",
       "\n",
       "    .dataframe thead th {\n",
       "        text-align: right;\n",
       "    }\n",
       "</style>\n",
       "<table border=\"1\" class=\"dataframe\">\n",
       "  <thead>\n",
       "    <tr style=\"text-align: right;\">\n",
       "      <th></th>\n",
       "      <th>AUGEVolume</th>\n",
       "      <th>AUGEASTLEVANALOG</th>\n",
       "      <th>AUGWVOLUME</th>\n",
       "      <th>AUGWESTLEVANALOG</th>\n",
       "      <th>ASHREL</th>\n",
       "      <th>SICRESVOLUME</th>\n",
       "      <th>SICRESELEVANALOG</th>\n",
       "      <th>STPALBFLW</th>\n",
       "      <th>RECRESVOLUME</th>\n",
       "      <th>RECRESELEVANALOG</th>\n",
       "      <th>...</th>\n",
       "      <th>WDIRESVOLUME</th>\n",
       "      <th>WDIRESELEVANALOG</th>\n",
       "      <th>WDRFLW</th>\n",
       "      <th>PRCP</th>\n",
       "      <th>PRCP_A</th>\n",
       "      <th>PRCP_S</th>\n",
       "      <th>PRCP_REC</th>\n",
       "      <th>PRCP_NIC</th>\n",
       "      <th>PRCP_ED</th>\n",
       "      <th>PRCP_WD</th>\n",
       "    </tr>\n",
       "    <tr>\n",
       "      <th>DATE</th>\n",
       "      <th></th>\n",
       "      <th></th>\n",
       "      <th></th>\n",
       "      <th></th>\n",
       "      <th></th>\n",
       "      <th></th>\n",
       "      <th></th>\n",
       "      <th></th>\n",
       "      <th></th>\n",
       "      <th></th>\n",
       "      <th></th>\n",
       "      <th></th>\n",
       "      <th></th>\n",
       "      <th></th>\n",
       "      <th></th>\n",
       "      <th></th>\n",
       "      <th></th>\n",
       "      <th></th>\n",
       "      <th></th>\n",
       "      <th></th>\n",
       "      <th></th>\n",
       "    </tr>\n",
       "  </thead>\n",
       "  <tbody>\n",
       "    <tr>\n",
       "      <th>2017-11-01</th>\n",
       "      <td>65.36</td>\n",
       "      <td>577.86</td>\n",
       "      <td>36.34</td>\n",
       "      <td>577.89</td>\n",
       "      <td>18</td>\n",
       "      <td>12.92</td>\n",
       "      <td>1109.86</td>\n",
       "      <td>0.0</td>\n",
       "      <td>47.26</td>\n",
       "      <td>835.85</td>\n",
       "      <td>...</td>\n",
       "      <td>47.69</td>\n",
       "      <td>1112.87</td>\n",
       "      <td>97.3</td>\n",
       "      <td>0.0</td>\n",
       "      <td>0.00</td>\n",
       "      <td>0.0</td>\n",
       "      <td>0.0</td>\n",
       "      <td>0.00</td>\n",
       "      <td>0.0</td>\n",
       "      <td>0.00</td>\n",
       "    </tr>\n",
       "    <tr>\n",
       "      <th>2019-05-31</th>\n",
       "      <td>77.12</td>\n",
       "      <td>586.23</td>\n",
       "      <td>44.94</td>\n",
       "      <td>590.01</td>\n",
       "      <td>21</td>\n",
       "      <td>18.34</td>\n",
       "      <td>1130.16</td>\n",
       "      <td>120.2</td>\n",
       "      <td>48.89</td>\n",
       "      <td>839.11</td>\n",
       "      <td>...</td>\n",
       "      <td>94.70</td>\n",
       "      <td>1150.20</td>\n",
       "      <td>322.6</td>\n",
       "      <td>0.3</td>\n",
       "      <td>0.02</td>\n",
       "      <td>0.0</td>\n",
       "      <td>5.3</td>\n",
       "      <td>0.15</td>\n",
       "      <td>0.1</td>\n",
       "      <td>0.37</td>\n",
       "    </tr>\n",
       "  </tbody>\n",
       "</table>\n",
       "<p>2 rows × 31 columns</p>\n",
       "</div>"
      ],
      "text/plain": [
       "            AUGEVolume  AUGEASTLEVANALOG  AUGWVOLUME  AUGWESTLEVANALOG  \\\n",
       "DATE                                                                     \n",
       "2017-11-01       65.36            577.86       36.34            577.89   \n",
       "2019-05-31       77.12            586.23       44.94            590.01   \n",
       "\n",
       "            ASHREL  SICRESVOLUME  SICRESELEVANALOG  STPALBFLW  RECRESVOLUME  \\\n",
       "DATE                                                                          \n",
       "2017-11-01      18         12.92           1109.86        0.0         47.26   \n",
       "2019-05-31      21         18.34           1130.16      120.2         48.89   \n",
       "\n",
       "            RECRESELEVANALOG  ...  WDIRESVOLUME  WDIRESELEVANALOG  WDRFLW  \\\n",
       "DATE                          ...                                           \n",
       "2017-11-01            835.85  ...         47.69           1112.87    97.3   \n",
       "2019-05-31            839.11  ...         94.70           1150.20   322.6   \n",
       "\n",
       "            PRCP  PRCP_A  PRCP_S  PRCP_REC  PRCP_NIC  PRCP_ED  PRCP_WD  \n",
       "DATE                                                                    \n",
       "2017-11-01   0.0    0.00     0.0       0.0      0.00      0.0     0.00  \n",
       "2019-05-31   0.3    0.02     0.0       5.3      0.15      0.1     0.37  \n",
       "\n",
       "[2 rows x 31 columns]"
      ]
     },
     "execution_count": 33,
     "metadata": {},
     "output_type": "execute_result"
    }
   ],
   "source": [
    "data_l.iloc[[0, -1]]"
   ]
  },
  {
   "cell_type": "code",
   "execution_count": 34,
   "metadata": {},
   "outputs": [
    {
     "data": {
      "text/plain": [
       "AUGEVolume          0\n",
       "AUGEASTLEVANALOG    0\n",
       "AUGWVOLUME          0\n",
       "AUGWESTLEVANALOG    0\n",
       "ASHREL              0\n",
       "SICRESVOLUME        0\n",
       "SICRESELEVANALOG    0\n",
       "STPALBFLW           0\n",
       "RECRESVOLUME        0\n",
       "RECRESELEVANALOG    0\n",
       "RECREL              0\n",
       "NICRESVOLUME        0\n",
       "NICRESELEVANALOG    0\n",
       "NICNTHFLW           0\n",
       "NICSTHFLW           0\n",
       "NICCONFLW           0\n",
       "EDIRESVOLUME        0\n",
       "EDIRESELEVANALOG    0\n",
       "EDRNTHFLW           0\n",
       "EDRSTHFLW           0\n",
       "EDRCONFLW           0\n",
       "WDIRESVOLUME        0\n",
       "WDIRESELEVANALOG    0\n",
       "WDRFLW              0\n",
       "PRCP                0\n",
       "PRCP_A              0\n",
       "PRCP_S              0\n",
       "PRCP_REC            0\n",
       "PRCP_NIC            0\n",
       "PRCP_ED             0\n",
       "PRCP_WD             0\n",
       "dtype: int64"
      ]
     },
     "execution_count": 34,
     "metadata": {},
     "output_type": "execute_result"
    }
   ],
   "source": [
    "data_l.isna().sum()"
   ]
  },
  {
   "cell_type": "code",
   "execution_count": 35,
   "metadata": {},
   "outputs": [],
   "source": [
    "data = pd.merge(ntu, data_l, left_index=True, right_index=True)"
   ]
  },
  {
   "cell_type": "code",
   "execution_count": 36,
   "metadata": {},
   "outputs": [
    {
     "name": "stdout",
     "output_type": "stream",
     "text": [
      "(577, 32)\n"
     ]
    },
    {
     "data": {
      "text/html": [
       "<div>\n",
       "<style scoped>\n",
       "    .dataframe tbody tr th:only-of-type {\n",
       "        vertical-align: middle;\n",
       "    }\n",
       "\n",
       "    .dataframe tbody tr th {\n",
       "        vertical-align: top;\n",
       "    }\n",
       "\n",
       "    .dataframe thead th {\n",
       "        text-align: right;\n",
       "    }\n",
       "</style>\n",
       "<table border=\"1\" class=\"dataframe\">\n",
       "  <thead>\n",
       "    <tr style=\"text-align: right;\">\n",
       "      <th></th>\n",
       "      <th>NTU</th>\n",
       "      <th>AUGEVolume</th>\n",
       "      <th>AUGEASTLEVANALOG</th>\n",
       "      <th>AUGWVOLUME</th>\n",
       "      <th>AUGWESTLEVANALOG</th>\n",
       "      <th>ASHREL</th>\n",
       "      <th>SICRESVOLUME</th>\n",
       "      <th>SICRESELEVANALOG</th>\n",
       "      <th>STPALBFLW</th>\n",
       "      <th>RECRESVOLUME</th>\n",
       "      <th>...</th>\n",
       "      <th>WDIRESVOLUME</th>\n",
       "      <th>WDIRESELEVANALOG</th>\n",
       "      <th>WDRFLW</th>\n",
       "      <th>PRCP</th>\n",
       "      <th>PRCP_A</th>\n",
       "      <th>PRCP_S</th>\n",
       "      <th>PRCP_REC</th>\n",
       "      <th>PRCP_NIC</th>\n",
       "      <th>PRCP_ED</th>\n",
       "      <th>PRCP_WD</th>\n",
       "    </tr>\n",
       "  </thead>\n",
       "  <tbody>\n",
       "    <tr>\n",
       "      <th>2017-11-01</th>\n",
       "      <td>0.64</td>\n",
       "      <td>65.36</td>\n",
       "      <td>577.86</td>\n",
       "      <td>36.34</td>\n",
       "      <td>577.89</td>\n",
       "      <td>18</td>\n",
       "      <td>12.92</td>\n",
       "      <td>1109.86</td>\n",
       "      <td>0.0</td>\n",
       "      <td>47.26</td>\n",
       "      <td>...</td>\n",
       "      <td>47.69</td>\n",
       "      <td>1112.87</td>\n",
       "      <td>97.3</td>\n",
       "      <td>0.0</td>\n",
       "      <td>0.00</td>\n",
       "      <td>0.00</td>\n",
       "      <td>0.0</td>\n",
       "      <td>0.00</td>\n",
       "      <td>0.00</td>\n",
       "      <td>0.00</td>\n",
       "    </tr>\n",
       "    <tr>\n",
       "      <th>2017-11-02</th>\n",
       "      <td>0.63</td>\n",
       "      <td>64.95</td>\n",
       "      <td>577.58</td>\n",
       "      <td>36.82</td>\n",
       "      <td>578.59</td>\n",
       "      <td>11</td>\n",
       "      <td>13.28</td>\n",
       "      <td>1111.05</td>\n",
       "      <td>0.0</td>\n",
       "      <td>47.32</td>\n",
       "      <td>...</td>\n",
       "      <td>48.20</td>\n",
       "      <td>1113.33</td>\n",
       "      <td>97.6</td>\n",
       "      <td>0.0</td>\n",
       "      <td>0.04</td>\n",
       "      <td>0.02</td>\n",
       "      <td>0.0</td>\n",
       "      <td>0.08</td>\n",
       "      <td>0.06</td>\n",
       "      <td>0.05</td>\n",
       "    </tr>\n",
       "    <tr>\n",
       "      <th>2017-11-03</th>\n",
       "      <td>0.68</td>\n",
       "      <td>64.36</td>\n",
       "      <td>577.31</td>\n",
       "      <td>37.18</td>\n",
       "      <td>579.14</td>\n",
       "      <td>12</td>\n",
       "      <td>13.56</td>\n",
       "      <td>1111.97</td>\n",
       "      <td>0.0</td>\n",
       "      <td>47.22</td>\n",
       "      <td>...</td>\n",
       "      <td>48.66</td>\n",
       "      <td>1113.74</td>\n",
       "      <td>97.8</td>\n",
       "      <td>0.0</td>\n",
       "      <td>0.00</td>\n",
       "      <td>0.00</td>\n",
       "      <td>0.5</td>\n",
       "      <td>0.00</td>\n",
       "      <td>0.02</td>\n",
       "      <td>0.06</td>\n",
       "    </tr>\n",
       "    <tr>\n",
       "      <th>2017-11-04</th>\n",
       "      <td>0.68</td>\n",
       "      <td>63.71</td>\n",
       "      <td>576.94</td>\n",
       "      <td>37.49</td>\n",
       "      <td>579.56</td>\n",
       "      <td>12</td>\n",
       "      <td>13.78</td>\n",
       "      <td>1112.73</td>\n",
       "      <td>0.0</td>\n",
       "      <td>47.28</td>\n",
       "      <td>...</td>\n",
       "      <td>49.05</td>\n",
       "      <td>1114.09</td>\n",
       "      <td>98.0</td>\n",
       "      <td>0.0</td>\n",
       "      <td>0.00</td>\n",
       "      <td>0.04</td>\n",
       "      <td>0.0</td>\n",
       "      <td>0.04</td>\n",
       "      <td>0.06</td>\n",
       "      <td>0.09</td>\n",
       "    </tr>\n",
       "    <tr>\n",
       "      <th>2017-11-05</th>\n",
       "      <td>0.64</td>\n",
       "      <td>63.15</td>\n",
       "      <td>576.52</td>\n",
       "      <td>37.78</td>\n",
       "      <td>579.92</td>\n",
       "      <td>12</td>\n",
       "      <td>13.98</td>\n",
       "      <td>1113.39</td>\n",
       "      <td>0.0</td>\n",
       "      <td>47.36</td>\n",
       "      <td>...</td>\n",
       "      <td>49.35</td>\n",
       "      <td>1114.36</td>\n",
       "      <td>97.7</td>\n",
       "      <td>2.3</td>\n",
       "      <td>0.01</td>\n",
       "      <td>0.00</td>\n",
       "      <td>0.0</td>\n",
       "      <td>0.00</td>\n",
       "      <td>0.00</td>\n",
       "      <td>0.04</td>\n",
       "    </tr>\n",
       "  </tbody>\n",
       "</table>\n",
       "<p>5 rows × 32 columns</p>\n",
       "</div>"
      ],
      "text/plain": [
       "             NTU  AUGEVolume  AUGEASTLEVANALOG  AUGWVOLUME  AUGWESTLEVANALOG  \\\n",
       "2017-11-01  0.64       65.36            577.86       36.34            577.89   \n",
       "2017-11-02  0.63       64.95            577.58       36.82            578.59   \n",
       "2017-11-03  0.68       64.36            577.31       37.18            579.14   \n",
       "2017-11-04  0.68       63.71            576.94       37.49            579.56   \n",
       "2017-11-05  0.64       63.15            576.52       37.78            579.92   \n",
       "\n",
       "            ASHREL  SICRESVOLUME  SICRESELEVANALOG  STPALBFLW  RECRESVOLUME  \\\n",
       "2017-11-01      18         12.92           1109.86        0.0         47.26   \n",
       "2017-11-02      11         13.28           1111.05        0.0         47.32   \n",
       "2017-11-03      12         13.56           1111.97        0.0         47.22   \n",
       "2017-11-04      12         13.78           1112.73        0.0         47.28   \n",
       "2017-11-05      12         13.98           1113.39        0.0         47.36   \n",
       "\n",
       "            ...  WDIRESVOLUME  WDIRESELEVANALOG  WDRFLW  PRCP  PRCP_A  PRCP_S  \\\n",
       "2017-11-01  ...         47.69           1112.87    97.3   0.0    0.00    0.00   \n",
       "2017-11-02  ...         48.20           1113.33    97.6   0.0    0.04    0.02   \n",
       "2017-11-03  ...         48.66           1113.74    97.8   0.0    0.00    0.00   \n",
       "2017-11-04  ...         49.05           1114.09    98.0   0.0    0.00    0.04   \n",
       "2017-11-05  ...         49.35           1114.36    97.7   2.3    0.01    0.00   \n",
       "\n",
       "            PRCP_REC  PRCP_NIC  PRCP_ED  PRCP_WD  \n",
       "2017-11-01       0.0      0.00     0.00     0.00  \n",
       "2017-11-02       0.0      0.08     0.06     0.05  \n",
       "2017-11-03       0.5      0.00     0.02     0.06  \n",
       "2017-11-04       0.0      0.04     0.06     0.09  \n",
       "2017-11-05       0.0      0.00     0.00     0.04  \n",
       "\n",
       "[5 rows x 32 columns]"
      ]
     },
     "execution_count": 36,
     "metadata": {},
     "output_type": "execute_result"
    }
   ],
   "source": [
    "print(data.shape)\n",
    "data.head()"
   ]
  },
  {
   "cell_type": "code",
   "execution_count": 37,
   "metadata": {},
   "outputs": [
    {
     "data": {
      "text/html": [
       "<div>\n",
       "<style scoped>\n",
       "    .dataframe tbody tr th:only-of-type {\n",
       "        vertical-align: middle;\n",
       "    }\n",
       "\n",
       "    .dataframe tbody tr th {\n",
       "        vertical-align: top;\n",
       "    }\n",
       "\n",
       "    .dataframe thead th {\n",
       "        text-align: right;\n",
       "    }\n",
       "</style>\n",
       "<table border=\"1\" class=\"dataframe\">\n",
       "  <thead>\n",
       "    <tr style=\"text-align: right;\">\n",
       "      <th></th>\n",
       "      <th>NTU</th>\n",
       "      <th>AUGEVolume</th>\n",
       "      <th>AUGEASTLEVANALOG</th>\n",
       "      <th>AUGWVOLUME</th>\n",
       "      <th>AUGWESTLEVANALOG</th>\n",
       "      <th>ASHREL</th>\n",
       "      <th>SICRESVOLUME</th>\n",
       "      <th>SICRESELEVANALOG</th>\n",
       "      <th>STPALBFLW</th>\n",
       "      <th>RECRESVOLUME</th>\n",
       "      <th>...</th>\n",
       "      <th>WDIRESVOLUME</th>\n",
       "      <th>WDIRESELEVANALOG</th>\n",
       "      <th>WDRFLW</th>\n",
       "      <th>PRCP</th>\n",
       "      <th>PRCP_A</th>\n",
       "      <th>PRCP_S</th>\n",
       "      <th>PRCP_REC</th>\n",
       "      <th>PRCP_NIC</th>\n",
       "      <th>PRCP_ED</th>\n",
       "      <th>PRCP_WD</th>\n",
       "    </tr>\n",
       "  </thead>\n",
       "  <tbody>\n",
       "    <tr>\n",
       "      <th>count</th>\n",
       "      <td>577.000000</td>\n",
       "      <td>577.000000</td>\n",
       "      <td>577.000000</td>\n",
       "      <td>577.000000</td>\n",
       "      <td>577.000000</td>\n",
       "      <td>577.000000</td>\n",
       "      <td>577.000000</td>\n",
       "      <td>577.000000</td>\n",
       "      <td>577.000000</td>\n",
       "      <td>577.000000</td>\n",
       "      <td>...</td>\n",
       "      <td>577.000000</td>\n",
       "      <td>577.000000</td>\n",
       "      <td>577.000000</td>\n",
       "      <td>577.000000</td>\n",
       "      <td>577.000000</td>\n",
       "      <td>577.000000</td>\n",
       "      <td>577.000000</td>\n",
       "      <td>577.000000</td>\n",
       "      <td>577.000000</td>\n",
       "      <td>577.000000</td>\n",
       "    </tr>\n",
       "    <tr>\n",
       "      <th>mean</th>\n",
       "      <td>0.791274</td>\n",
       "      <td>71.313310</td>\n",
       "      <td>582.080139</td>\n",
       "      <td>40.797920</td>\n",
       "      <td>584.691820</td>\n",
       "      <td>234.757366</td>\n",
       "      <td>17.096690</td>\n",
       "      <td>1125.488163</td>\n",
       "      <td>72.702426</td>\n",
       "      <td>47.885910</td>\n",
       "      <td>...</td>\n",
       "      <td>83.942565</td>\n",
       "      <td>1141.852097</td>\n",
       "      <td>605.665858</td>\n",
       "      <td>3.694454</td>\n",
       "      <td>0.133865</td>\n",
       "      <td>0.115009</td>\n",
       "      <td>3.757712</td>\n",
       "      <td>0.165147</td>\n",
       "      <td>0.141438</td>\n",
       "      <td>0.122270</td>\n",
       "    </tr>\n",
       "    <tr>\n",
       "      <th>std</th>\n",
       "      <td>0.138993</td>\n",
       "      <td>7.269044</td>\n",
       "      <td>4.869657</td>\n",
       "      <td>4.024752</td>\n",
       "      <td>4.247849</td>\n",
       "      <td>257.388177</td>\n",
       "      <td>1.528601</td>\n",
       "      <td>11.235792</td>\n",
       "      <td>102.876970</td>\n",
       "      <td>0.664561</td>\n",
       "      <td>...</td>\n",
       "      <td>14.861174</td>\n",
       "      <td>11.588252</td>\n",
       "      <td>371.555927</td>\n",
       "      <td>9.680882</td>\n",
       "      <td>0.315445</td>\n",
       "      <td>0.265659</td>\n",
       "      <td>7.652919</td>\n",
       "      <td>0.330618</td>\n",
       "      <td>0.312063</td>\n",
       "      <td>0.296177</td>\n",
       "    </tr>\n",
       "    <tr>\n",
       "      <th>min</th>\n",
       "      <td>0.530000</td>\n",
       "      <td>52.630000</td>\n",
       "      <td>568.860000</td>\n",
       "      <td>31.370000</td>\n",
       "      <td>572.780000</td>\n",
       "      <td>8.000000</td>\n",
       "      <td>11.540000</td>\n",
       "      <td>1105.270000</td>\n",
       "      <td>0.000000</td>\n",
       "      <td>46.000000</td>\n",
       "      <td>...</td>\n",
       "      <td>47.690000</td>\n",
       "      <td>1112.870000</td>\n",
       "      <td>36.900000</td>\n",
       "      <td>0.000000</td>\n",
       "      <td>0.000000</td>\n",
       "      <td>0.000000</td>\n",
       "      <td>0.000000</td>\n",
       "      <td>0.000000</td>\n",
       "      <td>0.000000</td>\n",
       "      <td>0.000000</td>\n",
       "    </tr>\n",
       "    <tr>\n",
       "      <th>25%</th>\n",
       "      <td>0.680000</td>\n",
       "      <td>67.000000</td>\n",
       "      <td>579.630000</td>\n",
       "      <td>38.020000</td>\n",
       "      <td>581.990000</td>\n",
       "      <td>13.000000</td>\n",
       "      <td>16.770000</td>\n",
       "      <td>1124.920000</td>\n",
       "      <td>0.000000</td>\n",
       "      <td>47.410000</td>\n",
       "      <td>...</td>\n",
       "      <td>83.460000</td>\n",
       "      <td>1142.470000</td>\n",
       "      <td>233.600000</td>\n",
       "      <td>0.000000</td>\n",
       "      <td>0.000000</td>\n",
       "      <td>0.000000</td>\n",
       "      <td>0.000000</td>\n",
       "      <td>0.000000</td>\n",
       "      <td>0.000000</td>\n",
       "      <td>0.000000</td>\n",
       "    </tr>\n",
       "    <tr>\n",
       "      <th>50%</th>\n",
       "      <td>0.780000</td>\n",
       "      <td>73.140000</td>\n",
       "      <td>583.350000</td>\n",
       "      <td>41.170000</td>\n",
       "      <td>584.870000</td>\n",
       "      <td>22.000000</td>\n",
       "      <td>17.110000</td>\n",
       "      <td>1126.110000</td>\n",
       "      <td>12.400000</td>\n",
       "      <td>47.900000</td>\n",
       "      <td>...</td>\n",
       "      <td>89.650000</td>\n",
       "      <td>1146.460000</td>\n",
       "      <td>736.300000</td>\n",
       "      <td>0.000000</td>\n",
       "      <td>0.000000</td>\n",
       "      <td>0.000000</td>\n",
       "      <td>0.000000</td>\n",
       "      <td>0.000000</td>\n",
       "      <td>0.000000</td>\n",
       "      <td>0.000000</td>\n",
       "    </tr>\n",
       "    <tr>\n",
       "      <th>75%</th>\n",
       "      <td>0.880000</td>\n",
       "      <td>77.430000</td>\n",
       "      <td>586.390000</td>\n",
       "      <td>44.370000</td>\n",
       "      <td>588.140000</td>\n",
       "      <td>546.000000</td>\n",
       "      <td>18.320000</td>\n",
       "      <td>1129.340000</td>\n",
       "      <td>122.100000</td>\n",
       "      <td>48.330000</td>\n",
       "      <td>...</td>\n",
       "      <td>93.110000</td>\n",
       "      <td>1149.120000</td>\n",
       "      <td>967.800000</td>\n",
       "      <td>2.500000</td>\n",
       "      <td>0.080000</td>\n",
       "      <td>0.090000</td>\n",
       "      <td>3.800000</td>\n",
       "      <td>0.140000</td>\n",
       "      <td>0.110000</td>\n",
       "      <td>0.050000</td>\n",
       "    </tr>\n",
       "    <tr>\n",
       "      <th>max</th>\n",
       "      <td>1.370000</td>\n",
       "      <td>81.070000</td>\n",
       "      <td>588.100000</td>\n",
       "      <td>47.690000</td>\n",
       "      <td>591.100000</td>\n",
       "      <td>623.000000</td>\n",
       "      <td>19.720000</td>\n",
       "      <td>1362.670000</td>\n",
       "      <td>569.600000</td>\n",
       "      <td>49.310000</td>\n",
       "      <td>...</td>\n",
       "      <td>99.110000</td>\n",
       "      <td>1151.950000</td>\n",
       "      <td>1009.600000</td>\n",
       "      <td>112.000000</td>\n",
       "      <td>2.430000</td>\n",
       "      <td>1.830000</td>\n",
       "      <td>53.800000</td>\n",
       "      <td>2.340000</td>\n",
       "      <td>2.400000</td>\n",
       "      <td>2.350000</td>\n",
       "    </tr>\n",
       "  </tbody>\n",
       "</table>\n",
       "<p>8 rows × 32 columns</p>\n",
       "</div>"
      ],
      "text/plain": [
       "              NTU  AUGEVolume  AUGEASTLEVANALOG  AUGWVOLUME  AUGWESTLEVANALOG  \\\n",
       "count  577.000000  577.000000        577.000000  577.000000        577.000000   \n",
       "mean     0.791274   71.313310        582.080139   40.797920        584.691820   \n",
       "std      0.138993    7.269044          4.869657    4.024752          4.247849   \n",
       "min      0.530000   52.630000        568.860000   31.370000        572.780000   \n",
       "25%      0.680000   67.000000        579.630000   38.020000        581.990000   \n",
       "50%      0.780000   73.140000        583.350000   41.170000        584.870000   \n",
       "75%      0.880000   77.430000        586.390000   44.370000        588.140000   \n",
       "max      1.370000   81.070000        588.100000   47.690000        591.100000   \n",
       "\n",
       "           ASHREL  SICRESVOLUME  SICRESELEVANALOG   STPALBFLW  RECRESVOLUME  \\\n",
       "count  577.000000    577.000000        577.000000  577.000000    577.000000   \n",
       "mean   234.757366     17.096690       1125.488163   72.702426     47.885910   \n",
       "std    257.388177      1.528601         11.235792  102.876970      0.664561   \n",
       "min      8.000000     11.540000       1105.270000    0.000000     46.000000   \n",
       "25%     13.000000     16.770000       1124.920000    0.000000     47.410000   \n",
       "50%     22.000000     17.110000       1126.110000   12.400000     47.900000   \n",
       "75%    546.000000     18.320000       1129.340000  122.100000     48.330000   \n",
       "max    623.000000     19.720000       1362.670000  569.600000     49.310000   \n",
       "\n",
       "       ...  WDIRESVOLUME  WDIRESELEVANALOG       WDRFLW        PRCP  \\\n",
       "count  ...    577.000000        577.000000   577.000000  577.000000   \n",
       "mean   ...     83.942565       1141.852097   605.665858    3.694454   \n",
       "std    ...     14.861174         11.588252   371.555927    9.680882   \n",
       "min    ...     47.690000       1112.870000    36.900000    0.000000   \n",
       "25%    ...     83.460000       1142.470000   233.600000    0.000000   \n",
       "50%    ...     89.650000       1146.460000   736.300000    0.000000   \n",
       "75%    ...     93.110000       1149.120000   967.800000    2.500000   \n",
       "max    ...     99.110000       1151.950000  1009.600000  112.000000   \n",
       "\n",
       "           PRCP_A      PRCP_S    PRCP_REC    PRCP_NIC     PRCP_ED     PRCP_WD  \n",
       "count  577.000000  577.000000  577.000000  577.000000  577.000000  577.000000  \n",
       "mean     0.133865    0.115009    3.757712    0.165147    0.141438    0.122270  \n",
       "std      0.315445    0.265659    7.652919    0.330618    0.312063    0.296177  \n",
       "min      0.000000    0.000000    0.000000    0.000000    0.000000    0.000000  \n",
       "25%      0.000000    0.000000    0.000000    0.000000    0.000000    0.000000  \n",
       "50%      0.000000    0.000000    0.000000    0.000000    0.000000    0.000000  \n",
       "75%      0.080000    0.090000    3.800000    0.140000    0.110000    0.050000  \n",
       "max      2.430000    1.830000   53.800000    2.340000    2.400000    2.350000  \n",
       "\n",
       "[8 rows x 32 columns]"
      ]
     },
     "execution_count": 37,
     "metadata": {},
     "output_type": "execute_result"
    }
   ],
   "source": [
    "data.describe()"
   ]
  },
  {
   "cell_type": "code",
   "execution_count": 38,
   "metadata": {},
   "outputs": [
    {
     "data": {
      "text/html": [
       "<div>\n",
       "<style scoped>\n",
       "    .dataframe tbody tr th:only-of-type {\n",
       "        vertical-align: middle;\n",
       "    }\n",
       "\n",
       "    .dataframe tbody tr th {\n",
       "        vertical-align: top;\n",
       "    }\n",
       "\n",
       "    .dataframe thead th {\n",
       "        text-align: right;\n",
       "    }\n",
       "</style>\n",
       "<table border=\"1\" class=\"dataframe\">\n",
       "  <thead>\n",
       "    <tr style=\"text-align: right;\">\n",
       "      <th></th>\n",
       "      <th>NTU</th>\n",
       "      <th>AUGEVolume</th>\n",
       "      <th>AUGEASTLEVANALOG</th>\n",
       "      <th>AUGWVOLUME</th>\n",
       "      <th>AUGWESTLEVANALOG</th>\n",
       "      <th>ASHREL</th>\n",
       "      <th>SICRESVOLUME</th>\n",
       "      <th>SICRESELEVANALOG</th>\n",
       "      <th>STPALBFLW</th>\n",
       "      <th>RECRESVOLUME</th>\n",
       "      <th>...</th>\n",
       "      <th>WDIRESVOLUME</th>\n",
       "      <th>WDIRESELEVANALOG</th>\n",
       "      <th>WDRFLW</th>\n",
       "      <th>PRCP</th>\n",
       "      <th>PRCP_A</th>\n",
       "      <th>PRCP_S</th>\n",
       "      <th>PRCP_REC</th>\n",
       "      <th>PRCP_NIC</th>\n",
       "      <th>PRCP_ED</th>\n",
       "      <th>PRCP_WD</th>\n",
       "    </tr>\n",
       "  </thead>\n",
       "  <tbody>\n",
       "    <tr>\n",
       "      <th>NTU</th>\n",
       "      <td>1.000000</td>\n",
       "      <td>-0.022677</td>\n",
       "      <td>-0.102650</td>\n",
       "      <td>0.064915</td>\n",
       "      <td>-0.068837</td>\n",
       "      <td>-0.328319</td>\n",
       "      <td>-0.129264</td>\n",
       "      <td>-0.109538</td>\n",
       "      <td>0.123437</td>\n",
       "      <td>-0.016976</td>\n",
       "      <td>...</td>\n",
       "      <td>-0.116321</td>\n",
       "      <td>-0.153214</td>\n",
       "      <td>-0.283833</td>\n",
       "      <td>-0.094804</td>\n",
       "      <td>-0.163582</td>\n",
       "      <td>-0.122473</td>\n",
       "      <td>-0.054295</td>\n",
       "      <td>-0.129302</td>\n",
       "      <td>-0.068823</td>\n",
       "      <td>-0.089730</td>\n",
       "    </tr>\n",
       "    <tr>\n",
       "      <th>AUGEVolume</th>\n",
       "      <td>-0.022677</td>\n",
       "      <td>1.000000</td>\n",
       "      <td>0.989570</td>\n",
       "      <td>0.578931</td>\n",
       "      <td>0.654929</td>\n",
       "      <td>0.151306</td>\n",
       "      <td>0.675804</td>\n",
       "      <td>0.307349</td>\n",
       "      <td>-0.333519</td>\n",
       "      <td>0.654462</td>\n",
       "      <td>...</td>\n",
       "      <td>0.808400</td>\n",
       "      <td>0.796594</td>\n",
       "      <td>0.395613</td>\n",
       "      <td>0.073970</td>\n",
       "      <td>0.058724</td>\n",
       "      <td>0.072882</td>\n",
       "      <td>0.048499</td>\n",
       "      <td>0.077122</td>\n",
       "      <td>0.107804</td>\n",
       "      <td>0.102657</td>\n",
       "    </tr>\n",
       "    <tr>\n",
       "      <th>AUGEASTLEVANALOG</th>\n",
       "      <td>-0.102650</td>\n",
       "      <td>0.989570</td>\n",
       "      <td>1.000000</td>\n",
       "      <td>0.516695</td>\n",
       "      <td>0.624869</td>\n",
       "      <td>0.213996</td>\n",
       "      <td>0.675354</td>\n",
       "      <td>0.332636</td>\n",
       "      <td>-0.352260</td>\n",
       "      <td>0.624843</td>\n",
       "      <td>...</td>\n",
       "      <td>0.838948</td>\n",
       "      <td>0.836232</td>\n",
       "      <td>0.445750</td>\n",
       "      <td>0.076979</td>\n",
       "      <td>0.068200</td>\n",
       "      <td>0.073084</td>\n",
       "      <td>0.051187</td>\n",
       "      <td>0.082562</td>\n",
       "      <td>0.106318</td>\n",
       "      <td>0.100951</td>\n",
       "    </tr>\n",
       "    <tr>\n",
       "      <th>AUGWVOLUME</th>\n",
       "      <td>0.064915</td>\n",
       "      <td>0.578931</td>\n",
       "      <td>0.516695</td>\n",
       "      <td>1.000000</td>\n",
       "      <td>0.960953</td>\n",
       "      <td>-0.037641</td>\n",
       "      <td>0.673307</td>\n",
       "      <td>0.231328</td>\n",
       "      <td>-0.133666</td>\n",
       "      <td>0.450972</td>\n",
       "      <td>...</td>\n",
       "      <td>0.458054</td>\n",
       "      <td>0.421886</td>\n",
       "      <td>0.184029</td>\n",
       "      <td>0.060030</td>\n",
       "      <td>-0.006360</td>\n",
       "      <td>0.059566</td>\n",
       "      <td>0.063568</td>\n",
       "      <td>0.067616</td>\n",
       "      <td>0.088577</td>\n",
       "      <td>0.052991</td>\n",
       "    </tr>\n",
       "    <tr>\n",
       "      <th>AUGWESTLEVANALOG</th>\n",
       "      <td>-0.068837</td>\n",
       "      <td>0.654929</td>\n",
       "      <td>0.624869</td>\n",
       "      <td>0.960953</td>\n",
       "      <td>1.000000</td>\n",
       "      <td>0.080942</td>\n",
       "      <td>0.728634</td>\n",
       "      <td>0.310757</td>\n",
       "      <td>-0.195776</td>\n",
       "      <td>0.445504</td>\n",
       "      <td>...</td>\n",
       "      <td>0.588994</td>\n",
       "      <td>0.567184</td>\n",
       "      <td>0.310379</td>\n",
       "      <td>0.049426</td>\n",
       "      <td>-0.008842</td>\n",
       "      <td>0.034701</td>\n",
       "      <td>0.042980</td>\n",
       "      <td>0.053526</td>\n",
       "      <td>0.069300</td>\n",
       "      <td>0.022623</td>\n",
       "    </tr>\n",
       "    <tr>\n",
       "      <th>ASHREL</th>\n",
       "      <td>-0.328319</td>\n",
       "      <td>0.151306</td>\n",
       "      <td>0.213996</td>\n",
       "      <td>-0.037641</td>\n",
       "      <td>0.080942</td>\n",
       "      <td>1.000000</td>\n",
       "      <td>0.184908</td>\n",
       "      <td>0.122259</td>\n",
       "      <td>-0.344480</td>\n",
       "      <td>-0.064418</td>\n",
       "      <td>...</td>\n",
       "      <td>0.343333</td>\n",
       "      <td>0.365144</td>\n",
       "      <td>0.687320</td>\n",
       "      <td>0.112674</td>\n",
       "      <td>0.118783</td>\n",
       "      <td>0.086278</td>\n",
       "      <td>0.110447</td>\n",
       "      <td>0.103361</td>\n",
       "      <td>0.058865</td>\n",
       "      <td>0.104530</td>\n",
       "    </tr>\n",
       "    <tr>\n",
       "      <th>SICRESVOLUME</th>\n",
       "      <td>-0.129264</td>\n",
       "      <td>0.675804</td>\n",
       "      <td>0.675354</td>\n",
       "      <td>0.673307</td>\n",
       "      <td>0.728634</td>\n",
       "      <td>0.184908</td>\n",
       "      <td>1.000000</td>\n",
       "      <td>0.425605</td>\n",
       "      <td>-0.236297</td>\n",
       "      <td>0.602532</td>\n",
       "      <td>...</td>\n",
       "      <td>0.765322</td>\n",
       "      <td>0.756745</td>\n",
       "      <td>0.413864</td>\n",
       "      <td>0.119415</td>\n",
       "      <td>0.118532</td>\n",
       "      <td>0.159491</td>\n",
       "      <td>0.164075</td>\n",
       "      <td>0.174978</td>\n",
       "      <td>0.184806</td>\n",
       "      <td>0.140223</td>\n",
       "    </tr>\n",
       "    <tr>\n",
       "      <th>SICRESELEVANALOG</th>\n",
       "      <td>-0.109538</td>\n",
       "      <td>0.307349</td>\n",
       "      <td>0.332636</td>\n",
       "      <td>0.231328</td>\n",
       "      <td>0.310757</td>\n",
       "      <td>0.122259</td>\n",
       "      <td>0.425605</td>\n",
       "      <td>1.000000</td>\n",
       "      <td>-0.118077</td>\n",
       "      <td>0.221364</td>\n",
       "      <td>...</td>\n",
       "      <td>0.396482</td>\n",
       "      <td>0.405471</td>\n",
       "      <td>0.245673</td>\n",
       "      <td>0.080615</td>\n",
       "      <td>0.029854</td>\n",
       "      <td>0.043152</td>\n",
       "      <td>0.044854</td>\n",
       "      <td>0.052396</td>\n",
       "      <td>0.053962</td>\n",
       "      <td>0.040423</td>\n",
       "    </tr>\n",
       "    <tr>\n",
       "      <th>STPALBFLW</th>\n",
       "      <td>0.123437</td>\n",
       "      <td>-0.333519</td>\n",
       "      <td>-0.352260</td>\n",
       "      <td>-0.133666</td>\n",
       "      <td>-0.195776</td>\n",
       "      <td>-0.344480</td>\n",
       "      <td>-0.236297</td>\n",
       "      <td>-0.118077</td>\n",
       "      <td>1.000000</td>\n",
       "      <td>-0.171478</td>\n",
       "      <td>...</td>\n",
       "      <td>-0.459121</td>\n",
       "      <td>-0.448068</td>\n",
       "      <td>-0.502919</td>\n",
       "      <td>-0.044539</td>\n",
       "      <td>-0.089272</td>\n",
       "      <td>-0.098599</td>\n",
       "      <td>-0.086128</td>\n",
       "      <td>-0.086478</td>\n",
       "      <td>-0.071352</td>\n",
       "      <td>-0.043875</td>\n",
       "    </tr>\n",
       "    <tr>\n",
       "      <th>RECRESVOLUME</th>\n",
       "      <td>-0.016976</td>\n",
       "      <td>0.654462</td>\n",
       "      <td>0.624843</td>\n",
       "      <td>0.450972</td>\n",
       "      <td>0.445504</td>\n",
       "      <td>-0.064418</td>\n",
       "      <td>0.602532</td>\n",
       "      <td>0.221364</td>\n",
       "      <td>-0.171478</td>\n",
       "      <td>1.000000</td>\n",
       "      <td>...</td>\n",
       "      <td>0.551028</td>\n",
       "      <td>0.529066</td>\n",
       "      <td>0.158607</td>\n",
       "      <td>0.057850</td>\n",
       "      <td>0.097260</td>\n",
       "      <td>0.126993</td>\n",
       "      <td>0.110288</td>\n",
       "      <td>0.118312</td>\n",
       "      <td>0.167323</td>\n",
       "      <td>0.115978</td>\n",
       "    </tr>\n",
       "    <tr>\n",
       "      <th>RECRESELEVANALOG</th>\n",
       "      <td>-0.228217</td>\n",
       "      <td>0.700209</td>\n",
       "      <td>0.720033</td>\n",
       "      <td>0.345990</td>\n",
       "      <td>0.433176</td>\n",
       "      <td>0.100051</td>\n",
       "      <td>0.648383</td>\n",
       "      <td>0.312081</td>\n",
       "      <td>-0.238871</td>\n",
       "      <td>0.930764</td>\n",
       "      <td>...</td>\n",
       "      <td>0.682309</td>\n",
       "      <td>0.683594</td>\n",
       "      <td>0.319697</td>\n",
       "      <td>0.088488</td>\n",
       "      <td>0.136911</td>\n",
       "      <td>0.146752</td>\n",
       "      <td>0.125997</td>\n",
       "      <td>0.150393</td>\n",
       "      <td>0.179488</td>\n",
       "      <td>0.133865</td>\n",
       "    </tr>\n",
       "    <tr>\n",
       "      <th>RECREL</th>\n",
       "      <td>-0.315327</td>\n",
       "      <td>0.449065</td>\n",
       "      <td>0.486803</td>\n",
       "      <td>0.141520</td>\n",
       "      <td>0.246817</td>\n",
       "      <td>0.117916</td>\n",
       "      <td>0.362596</td>\n",
       "      <td>0.188535</td>\n",
       "      <td>-0.129232</td>\n",
       "      <td>0.478845</td>\n",
       "      <td>...</td>\n",
       "      <td>0.346606</td>\n",
       "      <td>0.364470</td>\n",
       "      <td>0.151118</td>\n",
       "      <td>0.081024</td>\n",
       "      <td>0.102892</td>\n",
       "      <td>0.104526</td>\n",
       "      <td>0.070141</td>\n",
       "      <td>0.090569</td>\n",
       "      <td>0.187735</td>\n",
       "      <td>0.074327</td>\n",
       "    </tr>\n",
       "    <tr>\n",
       "      <th>NICRESVOLUME</th>\n",
       "      <td>-0.306267</td>\n",
       "      <td>0.597996</td>\n",
       "      <td>0.651167</td>\n",
       "      <td>0.385878</td>\n",
       "      <td>0.534942</td>\n",
       "      <td>0.493693</td>\n",
       "      <td>0.802723</td>\n",
       "      <td>0.437350</td>\n",
       "      <td>-0.444350</td>\n",
       "      <td>0.386229</td>\n",
       "      <td>...</td>\n",
       "      <td>0.856643</td>\n",
       "      <td>0.868268</td>\n",
       "      <td>0.713874</td>\n",
       "      <td>0.136593</td>\n",
       "      <td>0.158362</td>\n",
       "      <td>0.138924</td>\n",
       "      <td>0.158727</td>\n",
       "      <td>0.169134</td>\n",
       "      <td>0.134210</td>\n",
       "      <td>0.116626</td>\n",
       "    </tr>\n",
       "    <tr>\n",
       "      <th>NICRESELEVANALOG</th>\n",
       "      <td>-0.336455</td>\n",
       "      <td>0.591427</td>\n",
       "      <td>0.652039</td>\n",
       "      <td>0.354331</td>\n",
       "      <td>0.516539</td>\n",
       "      <td>0.498714</td>\n",
       "      <td>0.785658</td>\n",
       "      <td>0.440289</td>\n",
       "      <td>-0.436882</td>\n",
       "      <td>0.368089</td>\n",
       "      <td>...</td>\n",
       "      <td>0.852615</td>\n",
       "      <td>0.868545</td>\n",
       "      <td>0.710246</td>\n",
       "      <td>0.135947</td>\n",
       "      <td>0.159507</td>\n",
       "      <td>0.136570</td>\n",
       "      <td>0.154393</td>\n",
       "      <td>0.167792</td>\n",
       "      <td>0.132046</td>\n",
       "      <td>0.115578</td>\n",
       "    </tr>\n",
       "    <tr>\n",
       "      <th>NICNTHFLW</th>\n",
       "      <td>-0.331308</td>\n",
       "      <td>-0.160483</td>\n",
       "      <td>-0.074747</td>\n",
       "      <td>-0.197390</td>\n",
       "      <td>-0.065471</td>\n",
       "      <td>0.581534</td>\n",
       "      <td>0.073612</td>\n",
       "      <td>0.138240</td>\n",
       "      <td>-0.306079</td>\n",
       "      <td>-0.226117</td>\n",
       "      <td>...</td>\n",
       "      <td>0.119596</td>\n",
       "      <td>0.148353</td>\n",
       "      <td>0.538716</td>\n",
       "      <td>0.062228</td>\n",
       "      <td>0.093426</td>\n",
       "      <td>0.069903</td>\n",
       "      <td>0.112676</td>\n",
       "      <td>0.109269</td>\n",
       "      <td>0.045023</td>\n",
       "      <td>0.016816</td>\n",
       "    </tr>\n",
       "    <tr>\n",
       "      <th>NICSTHFLW</th>\n",
       "      <td>-0.127808</td>\n",
       "      <td>0.712302</td>\n",
       "      <td>0.749590</td>\n",
       "      <td>0.375165</td>\n",
       "      <td>0.512441</td>\n",
       "      <td>0.312690</td>\n",
       "      <td>0.685377</td>\n",
       "      <td>0.382031</td>\n",
       "      <td>-0.236294</td>\n",
       "      <td>0.455626</td>\n",
       "      <td>...</td>\n",
       "      <td>0.873047</td>\n",
       "      <td>0.886844</td>\n",
       "      <td>0.483943</td>\n",
       "      <td>0.082549</td>\n",
       "      <td>0.097366</td>\n",
       "      <td>0.040093</td>\n",
       "      <td>0.082027</td>\n",
       "      <td>0.068098</td>\n",
       "      <td>0.073420</td>\n",
       "      <td>0.064114</td>\n",
       "    </tr>\n",
       "    <tr>\n",
       "      <th>NICCONFLW</th>\n",
       "      <td>0.015393</td>\n",
       "      <td>0.048731</td>\n",
       "      <td>0.047549</td>\n",
       "      <td>0.023746</td>\n",
       "      <td>0.021040</td>\n",
       "      <td>0.078606</td>\n",
       "      <td>0.033136</td>\n",
       "      <td>0.004066</td>\n",
       "      <td>-0.044021</td>\n",
       "      <td>0.016009</td>\n",
       "      <td>...</td>\n",
       "      <td>0.056289</td>\n",
       "      <td>0.053983</td>\n",
       "      <td>0.096249</td>\n",
       "      <td>0.115777</td>\n",
       "      <td>0.068286</td>\n",
       "      <td>0.065667</td>\n",
       "      <td>0.046235</td>\n",
       "      <td>0.070039</td>\n",
       "      <td>-0.043671</td>\n",
       "      <td>0.069958</td>\n",
       "    </tr>\n",
       "    <tr>\n",
       "      <th>EDIRESVOLUME</th>\n",
       "      <td>-0.252618</td>\n",
       "      <td>0.714123</td>\n",
       "      <td>0.757253</td>\n",
       "      <td>0.434874</td>\n",
       "      <td>0.581553</td>\n",
       "      <td>0.449621</td>\n",
       "      <td>0.728372</td>\n",
       "      <td>0.393784</td>\n",
       "      <td>-0.521808</td>\n",
       "      <td>0.464638</td>\n",
       "      <td>...</td>\n",
       "      <td>0.946668</td>\n",
       "      <td>0.945635</td>\n",
       "      <td>0.768318</td>\n",
       "      <td>0.087862</td>\n",
       "      <td>0.070933</td>\n",
       "      <td>0.077371</td>\n",
       "      <td>0.090488</td>\n",
       "      <td>0.104210</td>\n",
       "      <td>0.075228</td>\n",
       "      <td>0.053187</td>\n",
       "    </tr>\n",
       "    <tr>\n",
       "      <th>EDIRESELEVANALOG</th>\n",
       "      <td>-0.010499</td>\n",
       "      <td>0.166668</td>\n",
       "      <td>0.197700</td>\n",
       "      <td>0.063257</td>\n",
       "      <td>0.133378</td>\n",
       "      <td>0.263473</td>\n",
       "      <td>0.104541</td>\n",
       "      <td>0.077925</td>\n",
       "      <td>-0.228792</td>\n",
       "      <td>-0.058128</td>\n",
       "      <td>...</td>\n",
       "      <td>0.256423</td>\n",
       "      <td>0.264785</td>\n",
       "      <td>0.346195</td>\n",
       "      <td>0.052486</td>\n",
       "      <td>0.018842</td>\n",
       "      <td>-0.044604</td>\n",
       "      <td>-0.002296</td>\n",
       "      <td>-0.011546</td>\n",
       "      <td>-0.050988</td>\n",
       "      <td>-0.038554</td>\n",
       "    </tr>\n",
       "    <tr>\n",
       "      <th>EDRNTHFLW</th>\n",
       "      <td>-0.228005</td>\n",
       "      <td>0.138086</td>\n",
       "      <td>0.202588</td>\n",
       "      <td>-0.005276</td>\n",
       "      <td>0.116651</td>\n",
       "      <td>0.740878</td>\n",
       "      <td>0.195788</td>\n",
       "      <td>0.189345</td>\n",
       "      <td>-0.422747</td>\n",
       "      <td>-0.090583</td>\n",
       "      <td>...</td>\n",
       "      <td>0.416761</td>\n",
       "      <td>0.433026</td>\n",
       "      <td>0.806405</td>\n",
       "      <td>0.095536</td>\n",
       "      <td>0.065410</td>\n",
       "      <td>0.018408</td>\n",
       "      <td>0.093575</td>\n",
       "      <td>0.057010</td>\n",
       "      <td>-0.019459</td>\n",
       "      <td>-0.038397</td>\n",
       "    </tr>\n",
       "    <tr>\n",
       "      <th>EDRSTHFLW</th>\n",
       "      <td>-0.223924</td>\n",
       "      <td>0.337928</td>\n",
       "      <td>0.407918</td>\n",
       "      <td>0.103929</td>\n",
       "      <td>0.260352</td>\n",
       "      <td>0.672414</td>\n",
       "      <td>0.372281</td>\n",
       "      <td>0.285460</td>\n",
       "      <td>-0.443718</td>\n",
       "      <td>0.123927</td>\n",
       "      <td>...</td>\n",
       "      <td>0.616977</td>\n",
       "      <td>0.634641</td>\n",
       "      <td>0.812310</td>\n",
       "      <td>0.102429</td>\n",
       "      <td>0.063836</td>\n",
       "      <td>0.006889</td>\n",
       "      <td>0.080722</td>\n",
       "      <td>0.048587</td>\n",
       "      <td>0.020474</td>\n",
       "      <td>-0.009947</td>\n",
       "    </tr>\n",
       "    <tr>\n",
       "      <th>EDRCONFLW</th>\n",
       "      <td>-0.083865</td>\n",
       "      <td>0.093629</td>\n",
       "      <td>0.084785</td>\n",
       "      <td>0.094897</td>\n",
       "      <td>0.085869</td>\n",
       "      <td>0.003061</td>\n",
       "      <td>0.109676</td>\n",
       "      <td>0.046297</td>\n",
       "      <td>-0.053732</td>\n",
       "      <td>0.060956</td>\n",
       "      <td>...</td>\n",
       "      <td>0.094105</td>\n",
       "      <td>0.088025</td>\n",
       "      <td>0.098293</td>\n",
       "      <td>0.027690</td>\n",
       "      <td>0.158408</td>\n",
       "      <td>0.236111</td>\n",
       "      <td>0.100403</td>\n",
       "      <td>0.194287</td>\n",
       "      <td>0.068468</td>\n",
       "      <td>0.228086</td>\n",
       "    </tr>\n",
       "    <tr>\n",
       "      <th>WDIRESVOLUME</th>\n",
       "      <td>-0.116321</td>\n",
       "      <td>0.808400</td>\n",
       "      <td>0.838948</td>\n",
       "      <td>0.458054</td>\n",
       "      <td>0.588994</td>\n",
       "      <td>0.343333</td>\n",
       "      <td>0.765322</td>\n",
       "      <td>0.396482</td>\n",
       "      <td>-0.459121</td>\n",
       "      <td>0.551028</td>\n",
       "      <td>...</td>\n",
       "      <td>1.000000</td>\n",
       "      <td>0.997112</td>\n",
       "      <td>0.656750</td>\n",
       "      <td>0.085516</td>\n",
       "      <td>0.074087</td>\n",
       "      <td>0.073918</td>\n",
       "      <td>0.089708</td>\n",
       "      <td>0.095836</td>\n",
       "      <td>0.085847</td>\n",
       "      <td>0.063340</td>\n",
       "    </tr>\n",
       "    <tr>\n",
       "      <th>WDIRESELEVANALOG</th>\n",
       "      <td>-0.153214</td>\n",
       "      <td>0.796594</td>\n",
       "      <td>0.836232</td>\n",
       "      <td>0.421886</td>\n",
       "      <td>0.567184</td>\n",
       "      <td>0.365144</td>\n",
       "      <td>0.756745</td>\n",
       "      <td>0.405471</td>\n",
       "      <td>-0.448068</td>\n",
       "      <td>0.529066</td>\n",
       "      <td>...</td>\n",
       "      <td>0.997112</td>\n",
       "      <td>1.000000</td>\n",
       "      <td>0.660880</td>\n",
       "      <td>0.091197</td>\n",
       "      <td>0.083875</td>\n",
       "      <td>0.078383</td>\n",
       "      <td>0.093453</td>\n",
       "      <td>0.101980</td>\n",
       "      <td>0.088468</td>\n",
       "      <td>0.069471</td>\n",
       "    </tr>\n",
       "    <tr>\n",
       "      <th>WDRFLW</th>\n",
       "      <td>-0.283833</td>\n",
       "      <td>0.395613</td>\n",
       "      <td>0.445750</td>\n",
       "      <td>0.184029</td>\n",
       "      <td>0.310379</td>\n",
       "      <td>0.687320</td>\n",
       "      <td>0.413864</td>\n",
       "      <td>0.245673</td>\n",
       "      <td>-0.502919</td>\n",
       "      <td>0.158607</td>\n",
       "      <td>...</td>\n",
       "      <td>0.656750</td>\n",
       "      <td>0.660880</td>\n",
       "      <td>1.000000</td>\n",
       "      <td>0.116524</td>\n",
       "      <td>0.112503</td>\n",
       "      <td>0.100624</td>\n",
       "      <td>0.128808</td>\n",
       "      <td>0.108211</td>\n",
       "      <td>0.055488</td>\n",
       "      <td>0.042322</td>\n",
       "    </tr>\n",
       "    <tr>\n",
       "      <th>PRCP</th>\n",
       "      <td>-0.094804</td>\n",
       "      <td>0.073970</td>\n",
       "      <td>0.076979</td>\n",
       "      <td>0.060030</td>\n",
       "      <td>0.049426</td>\n",
       "      <td>0.112674</td>\n",
       "      <td>0.119415</td>\n",
       "      <td>0.080615</td>\n",
       "      <td>-0.044539</td>\n",
       "      <td>0.057850</td>\n",
       "      <td>...</td>\n",
       "      <td>0.085516</td>\n",
       "      <td>0.091197</td>\n",
       "      <td>0.116524</td>\n",
       "      <td>1.000000</td>\n",
       "      <td>0.237443</td>\n",
       "      <td>0.135144</td>\n",
       "      <td>0.297107</td>\n",
       "      <td>0.316041</td>\n",
       "      <td>0.208753</td>\n",
       "      <td>0.261280</td>\n",
       "    </tr>\n",
       "    <tr>\n",
       "      <th>PRCP_A</th>\n",
       "      <td>-0.163582</td>\n",
       "      <td>0.058724</td>\n",
       "      <td>0.068200</td>\n",
       "      <td>-0.006360</td>\n",
       "      <td>-0.008842</td>\n",
       "      <td>0.118783</td>\n",
       "      <td>0.118532</td>\n",
       "      <td>0.029854</td>\n",
       "      <td>-0.089272</td>\n",
       "      <td>0.097260</td>\n",
       "      <td>...</td>\n",
       "      <td>0.074087</td>\n",
       "      <td>0.083875</td>\n",
       "      <td>0.112503</td>\n",
       "      <td>0.237443</td>\n",
       "      <td>1.000000</td>\n",
       "      <td>0.598745</td>\n",
       "      <td>0.692748</td>\n",
       "      <td>0.691998</td>\n",
       "      <td>0.644180</td>\n",
       "      <td>0.580099</td>\n",
       "    </tr>\n",
       "    <tr>\n",
       "      <th>PRCP_S</th>\n",
       "      <td>-0.122473</td>\n",
       "      <td>0.072882</td>\n",
       "      <td>0.073084</td>\n",
       "      <td>0.059566</td>\n",
       "      <td>0.034701</td>\n",
       "      <td>0.086278</td>\n",
       "      <td>0.159491</td>\n",
       "      <td>0.043152</td>\n",
       "      <td>-0.098599</td>\n",
       "      <td>0.126993</td>\n",
       "      <td>...</td>\n",
       "      <td>0.073918</td>\n",
       "      <td>0.078383</td>\n",
       "      <td>0.100624</td>\n",
       "      <td>0.135144</td>\n",
       "      <td>0.598745</td>\n",
       "      <td>1.000000</td>\n",
       "      <td>0.545614</td>\n",
       "      <td>0.705376</td>\n",
       "      <td>0.536821</td>\n",
       "      <td>0.677092</td>\n",
       "    </tr>\n",
       "    <tr>\n",
       "      <th>PRCP_REC</th>\n",
       "      <td>-0.054295</td>\n",
       "      <td>0.048499</td>\n",
       "      <td>0.051187</td>\n",
       "      <td>0.063568</td>\n",
       "      <td>0.042980</td>\n",
       "      <td>0.110447</td>\n",
       "      <td>0.164075</td>\n",
       "      <td>0.044854</td>\n",
       "      <td>-0.086128</td>\n",
       "      <td>0.110288</td>\n",
       "      <td>...</td>\n",
       "      <td>0.089708</td>\n",
       "      <td>0.093453</td>\n",
       "      <td>0.128808</td>\n",
       "      <td>0.297107</td>\n",
       "      <td>0.692748</td>\n",
       "      <td>0.545614</td>\n",
       "      <td>1.000000</td>\n",
       "      <td>0.697903</td>\n",
       "      <td>0.642758</td>\n",
       "      <td>0.511640</td>\n",
       "    </tr>\n",
       "    <tr>\n",
       "      <th>PRCP_NIC</th>\n",
       "      <td>-0.129302</td>\n",
       "      <td>0.077122</td>\n",
       "      <td>0.082562</td>\n",
       "      <td>0.067616</td>\n",
       "      <td>0.053526</td>\n",
       "      <td>0.103361</td>\n",
       "      <td>0.174978</td>\n",
       "      <td>0.052396</td>\n",
       "      <td>-0.086478</td>\n",
       "      <td>0.118312</td>\n",
       "      <td>...</td>\n",
       "      <td>0.095836</td>\n",
       "      <td>0.101980</td>\n",
       "      <td>0.108211</td>\n",
       "      <td>0.316041</td>\n",
       "      <td>0.691998</td>\n",
       "      <td>0.705376</td>\n",
       "      <td>0.697903</td>\n",
       "      <td>1.000000</td>\n",
       "      <td>0.680195</td>\n",
       "      <td>0.701852</td>\n",
       "    </tr>\n",
       "    <tr>\n",
       "      <th>PRCP_ED</th>\n",
       "      <td>-0.068823</td>\n",
       "      <td>0.107804</td>\n",
       "      <td>0.106318</td>\n",
       "      <td>0.088577</td>\n",
       "      <td>0.069300</td>\n",
       "      <td>0.058865</td>\n",
       "      <td>0.184806</td>\n",
       "      <td>0.053962</td>\n",
       "      <td>-0.071352</td>\n",
       "      <td>0.167323</td>\n",
       "      <td>...</td>\n",
       "      <td>0.085847</td>\n",
       "      <td>0.088468</td>\n",
       "      <td>0.055488</td>\n",
       "      <td>0.208753</td>\n",
       "      <td>0.644180</td>\n",
       "      <td>0.536821</td>\n",
       "      <td>0.642758</td>\n",
       "      <td>0.680195</td>\n",
       "      <td>1.000000</td>\n",
       "      <td>0.655121</td>\n",
       "    </tr>\n",
       "    <tr>\n",
       "      <th>PRCP_WD</th>\n",
       "      <td>-0.089730</td>\n",
       "      <td>0.102657</td>\n",
       "      <td>0.100951</td>\n",
       "      <td>0.052991</td>\n",
       "      <td>0.022623</td>\n",
       "      <td>0.104530</td>\n",
       "      <td>0.140223</td>\n",
       "      <td>0.040423</td>\n",
       "      <td>-0.043875</td>\n",
       "      <td>0.115978</td>\n",
       "      <td>...</td>\n",
       "      <td>0.063340</td>\n",
       "      <td>0.069471</td>\n",
       "      <td>0.042322</td>\n",
       "      <td>0.261280</td>\n",
       "      <td>0.580099</td>\n",
       "      <td>0.677092</td>\n",
       "      <td>0.511640</td>\n",
       "      <td>0.701852</td>\n",
       "      <td>0.655121</td>\n",
       "      <td>1.000000</td>\n",
       "    </tr>\n",
       "  </tbody>\n",
       "</table>\n",
       "<p>32 rows × 32 columns</p>\n",
       "</div>"
      ],
      "text/plain": [
       "                       NTU  AUGEVolume  AUGEASTLEVANALOG  AUGWVOLUME  \\\n",
       "NTU               1.000000   -0.022677         -0.102650    0.064915   \n",
       "AUGEVolume       -0.022677    1.000000          0.989570    0.578931   \n",
       "AUGEASTLEVANALOG -0.102650    0.989570          1.000000    0.516695   \n",
       "AUGWVOLUME        0.064915    0.578931          0.516695    1.000000   \n",
       "AUGWESTLEVANALOG -0.068837    0.654929          0.624869    0.960953   \n",
       "ASHREL           -0.328319    0.151306          0.213996   -0.037641   \n",
       "SICRESVOLUME     -0.129264    0.675804          0.675354    0.673307   \n",
       "SICRESELEVANALOG -0.109538    0.307349          0.332636    0.231328   \n",
       "STPALBFLW         0.123437   -0.333519         -0.352260   -0.133666   \n",
       "RECRESVOLUME     -0.016976    0.654462          0.624843    0.450972   \n",
       "RECRESELEVANALOG -0.228217    0.700209          0.720033    0.345990   \n",
       "RECREL           -0.315327    0.449065          0.486803    0.141520   \n",
       "NICRESVOLUME     -0.306267    0.597996          0.651167    0.385878   \n",
       "NICRESELEVANALOG -0.336455    0.591427          0.652039    0.354331   \n",
       "NICNTHFLW        -0.331308   -0.160483         -0.074747   -0.197390   \n",
       "NICSTHFLW        -0.127808    0.712302          0.749590    0.375165   \n",
       "NICCONFLW         0.015393    0.048731          0.047549    0.023746   \n",
       "EDIRESVOLUME     -0.252618    0.714123          0.757253    0.434874   \n",
       "EDIRESELEVANALOG -0.010499    0.166668          0.197700    0.063257   \n",
       "EDRNTHFLW        -0.228005    0.138086          0.202588   -0.005276   \n",
       "EDRSTHFLW        -0.223924    0.337928          0.407918    0.103929   \n",
       "EDRCONFLW        -0.083865    0.093629          0.084785    0.094897   \n",
       "WDIRESVOLUME     -0.116321    0.808400          0.838948    0.458054   \n",
       "WDIRESELEVANALOG -0.153214    0.796594          0.836232    0.421886   \n",
       "WDRFLW           -0.283833    0.395613          0.445750    0.184029   \n",
       "PRCP             -0.094804    0.073970          0.076979    0.060030   \n",
       "PRCP_A           -0.163582    0.058724          0.068200   -0.006360   \n",
       "PRCP_S           -0.122473    0.072882          0.073084    0.059566   \n",
       "PRCP_REC         -0.054295    0.048499          0.051187    0.063568   \n",
       "PRCP_NIC         -0.129302    0.077122          0.082562    0.067616   \n",
       "PRCP_ED          -0.068823    0.107804          0.106318    0.088577   \n",
       "PRCP_WD          -0.089730    0.102657          0.100951    0.052991   \n",
       "\n",
       "                  AUGWESTLEVANALOG    ASHREL  SICRESVOLUME  SICRESELEVANALOG  \\\n",
       "NTU                      -0.068837 -0.328319     -0.129264         -0.109538   \n",
       "AUGEVolume                0.654929  0.151306      0.675804          0.307349   \n",
       "AUGEASTLEVANALOG          0.624869  0.213996      0.675354          0.332636   \n",
       "AUGWVOLUME                0.960953 -0.037641      0.673307          0.231328   \n",
       "AUGWESTLEVANALOG          1.000000  0.080942      0.728634          0.310757   \n",
       "ASHREL                    0.080942  1.000000      0.184908          0.122259   \n",
       "SICRESVOLUME              0.728634  0.184908      1.000000          0.425605   \n",
       "SICRESELEVANALOG          0.310757  0.122259      0.425605          1.000000   \n",
       "STPALBFLW                -0.195776 -0.344480     -0.236297         -0.118077   \n",
       "RECRESVOLUME              0.445504 -0.064418      0.602532          0.221364   \n",
       "RECRESELEVANALOG          0.433176  0.100051      0.648383          0.312081   \n",
       "RECREL                    0.246817  0.117916      0.362596          0.188535   \n",
       "NICRESVOLUME              0.534942  0.493693      0.802723          0.437350   \n",
       "NICRESELEVANALOG          0.516539  0.498714      0.785658          0.440289   \n",
       "NICNTHFLW                -0.065471  0.581534      0.073612          0.138240   \n",
       "NICSTHFLW                 0.512441  0.312690      0.685377          0.382031   \n",
       "NICCONFLW                 0.021040  0.078606      0.033136          0.004066   \n",
       "EDIRESVOLUME              0.581553  0.449621      0.728372          0.393784   \n",
       "EDIRESELEVANALOG          0.133378  0.263473      0.104541          0.077925   \n",
       "EDRNTHFLW                 0.116651  0.740878      0.195788          0.189345   \n",
       "EDRSTHFLW                 0.260352  0.672414      0.372281          0.285460   \n",
       "EDRCONFLW                 0.085869  0.003061      0.109676          0.046297   \n",
       "WDIRESVOLUME              0.588994  0.343333      0.765322          0.396482   \n",
       "WDIRESELEVANALOG          0.567184  0.365144      0.756745          0.405471   \n",
       "WDRFLW                    0.310379  0.687320      0.413864          0.245673   \n",
       "PRCP                      0.049426  0.112674      0.119415          0.080615   \n",
       "PRCP_A                   -0.008842  0.118783      0.118532          0.029854   \n",
       "PRCP_S                    0.034701  0.086278      0.159491          0.043152   \n",
       "PRCP_REC                  0.042980  0.110447      0.164075          0.044854   \n",
       "PRCP_NIC                  0.053526  0.103361      0.174978          0.052396   \n",
       "PRCP_ED                   0.069300  0.058865      0.184806          0.053962   \n",
       "PRCP_WD                   0.022623  0.104530      0.140223          0.040423   \n",
       "\n",
       "                  STPALBFLW  RECRESVOLUME  ...  WDIRESVOLUME  \\\n",
       "NTU                0.123437     -0.016976  ...     -0.116321   \n",
       "AUGEVolume        -0.333519      0.654462  ...      0.808400   \n",
       "AUGEASTLEVANALOG  -0.352260      0.624843  ...      0.838948   \n",
       "AUGWVOLUME        -0.133666      0.450972  ...      0.458054   \n",
       "AUGWESTLEVANALOG  -0.195776      0.445504  ...      0.588994   \n",
       "ASHREL            -0.344480     -0.064418  ...      0.343333   \n",
       "SICRESVOLUME      -0.236297      0.602532  ...      0.765322   \n",
       "SICRESELEVANALOG  -0.118077      0.221364  ...      0.396482   \n",
       "STPALBFLW          1.000000     -0.171478  ...     -0.459121   \n",
       "RECRESVOLUME      -0.171478      1.000000  ...      0.551028   \n",
       "RECRESELEVANALOG  -0.238871      0.930764  ...      0.682309   \n",
       "RECREL            -0.129232      0.478845  ...      0.346606   \n",
       "NICRESVOLUME      -0.444350      0.386229  ...      0.856643   \n",
       "NICRESELEVANALOG  -0.436882      0.368089  ...      0.852615   \n",
       "NICNTHFLW         -0.306079     -0.226117  ...      0.119596   \n",
       "NICSTHFLW         -0.236294      0.455626  ...      0.873047   \n",
       "NICCONFLW         -0.044021      0.016009  ...      0.056289   \n",
       "EDIRESVOLUME      -0.521808      0.464638  ...      0.946668   \n",
       "EDIRESELEVANALOG  -0.228792     -0.058128  ...      0.256423   \n",
       "EDRNTHFLW         -0.422747     -0.090583  ...      0.416761   \n",
       "EDRSTHFLW         -0.443718      0.123927  ...      0.616977   \n",
       "EDRCONFLW         -0.053732      0.060956  ...      0.094105   \n",
       "WDIRESVOLUME      -0.459121      0.551028  ...      1.000000   \n",
       "WDIRESELEVANALOG  -0.448068      0.529066  ...      0.997112   \n",
       "WDRFLW            -0.502919      0.158607  ...      0.656750   \n",
       "PRCP              -0.044539      0.057850  ...      0.085516   \n",
       "PRCP_A            -0.089272      0.097260  ...      0.074087   \n",
       "PRCP_S            -0.098599      0.126993  ...      0.073918   \n",
       "PRCP_REC          -0.086128      0.110288  ...      0.089708   \n",
       "PRCP_NIC          -0.086478      0.118312  ...      0.095836   \n",
       "PRCP_ED           -0.071352      0.167323  ...      0.085847   \n",
       "PRCP_WD           -0.043875      0.115978  ...      0.063340   \n",
       "\n",
       "                  WDIRESELEVANALOG    WDRFLW      PRCP    PRCP_A    PRCP_S  \\\n",
       "NTU                      -0.153214 -0.283833 -0.094804 -0.163582 -0.122473   \n",
       "AUGEVolume                0.796594  0.395613  0.073970  0.058724  0.072882   \n",
       "AUGEASTLEVANALOG          0.836232  0.445750  0.076979  0.068200  0.073084   \n",
       "AUGWVOLUME                0.421886  0.184029  0.060030 -0.006360  0.059566   \n",
       "AUGWESTLEVANALOG          0.567184  0.310379  0.049426 -0.008842  0.034701   \n",
       "ASHREL                    0.365144  0.687320  0.112674  0.118783  0.086278   \n",
       "SICRESVOLUME              0.756745  0.413864  0.119415  0.118532  0.159491   \n",
       "SICRESELEVANALOG          0.405471  0.245673  0.080615  0.029854  0.043152   \n",
       "STPALBFLW                -0.448068 -0.502919 -0.044539 -0.089272 -0.098599   \n",
       "RECRESVOLUME              0.529066  0.158607  0.057850  0.097260  0.126993   \n",
       "RECRESELEVANALOG          0.683594  0.319697  0.088488  0.136911  0.146752   \n",
       "RECREL                    0.364470  0.151118  0.081024  0.102892  0.104526   \n",
       "NICRESVOLUME              0.868268  0.713874  0.136593  0.158362  0.138924   \n",
       "NICRESELEVANALOG          0.868545  0.710246  0.135947  0.159507  0.136570   \n",
       "NICNTHFLW                 0.148353  0.538716  0.062228  0.093426  0.069903   \n",
       "NICSTHFLW                 0.886844  0.483943  0.082549  0.097366  0.040093   \n",
       "NICCONFLW                 0.053983  0.096249  0.115777  0.068286  0.065667   \n",
       "EDIRESVOLUME              0.945635  0.768318  0.087862  0.070933  0.077371   \n",
       "EDIRESELEVANALOG          0.264785  0.346195  0.052486  0.018842 -0.044604   \n",
       "EDRNTHFLW                 0.433026  0.806405  0.095536  0.065410  0.018408   \n",
       "EDRSTHFLW                 0.634641  0.812310  0.102429  0.063836  0.006889   \n",
       "EDRCONFLW                 0.088025  0.098293  0.027690  0.158408  0.236111   \n",
       "WDIRESVOLUME              0.997112  0.656750  0.085516  0.074087  0.073918   \n",
       "WDIRESELEVANALOG          1.000000  0.660880  0.091197  0.083875  0.078383   \n",
       "WDRFLW                    0.660880  1.000000  0.116524  0.112503  0.100624   \n",
       "PRCP                      0.091197  0.116524  1.000000  0.237443  0.135144   \n",
       "PRCP_A                    0.083875  0.112503  0.237443  1.000000  0.598745   \n",
       "PRCP_S                    0.078383  0.100624  0.135144  0.598745  1.000000   \n",
       "PRCP_REC                  0.093453  0.128808  0.297107  0.692748  0.545614   \n",
       "PRCP_NIC                  0.101980  0.108211  0.316041  0.691998  0.705376   \n",
       "PRCP_ED                   0.088468  0.055488  0.208753  0.644180  0.536821   \n",
       "PRCP_WD                   0.069471  0.042322  0.261280  0.580099  0.677092   \n",
       "\n",
       "                  PRCP_REC  PRCP_NIC   PRCP_ED   PRCP_WD  \n",
       "NTU              -0.054295 -0.129302 -0.068823 -0.089730  \n",
       "AUGEVolume        0.048499  0.077122  0.107804  0.102657  \n",
       "AUGEASTLEVANALOG  0.051187  0.082562  0.106318  0.100951  \n",
       "AUGWVOLUME        0.063568  0.067616  0.088577  0.052991  \n",
       "AUGWESTLEVANALOG  0.042980  0.053526  0.069300  0.022623  \n",
       "ASHREL            0.110447  0.103361  0.058865  0.104530  \n",
       "SICRESVOLUME      0.164075  0.174978  0.184806  0.140223  \n",
       "SICRESELEVANALOG  0.044854  0.052396  0.053962  0.040423  \n",
       "STPALBFLW        -0.086128 -0.086478 -0.071352 -0.043875  \n",
       "RECRESVOLUME      0.110288  0.118312  0.167323  0.115978  \n",
       "RECRESELEVANALOG  0.125997  0.150393  0.179488  0.133865  \n",
       "RECREL            0.070141  0.090569  0.187735  0.074327  \n",
       "NICRESVOLUME      0.158727  0.169134  0.134210  0.116626  \n",
       "NICRESELEVANALOG  0.154393  0.167792  0.132046  0.115578  \n",
       "NICNTHFLW         0.112676  0.109269  0.045023  0.016816  \n",
       "NICSTHFLW         0.082027  0.068098  0.073420  0.064114  \n",
       "NICCONFLW         0.046235  0.070039 -0.043671  0.069958  \n",
       "EDIRESVOLUME      0.090488  0.104210  0.075228  0.053187  \n",
       "EDIRESELEVANALOG -0.002296 -0.011546 -0.050988 -0.038554  \n",
       "EDRNTHFLW         0.093575  0.057010 -0.019459 -0.038397  \n",
       "EDRSTHFLW         0.080722  0.048587  0.020474 -0.009947  \n",
       "EDRCONFLW         0.100403  0.194287  0.068468  0.228086  \n",
       "WDIRESVOLUME      0.089708  0.095836  0.085847  0.063340  \n",
       "WDIRESELEVANALOG  0.093453  0.101980  0.088468  0.069471  \n",
       "WDRFLW            0.128808  0.108211  0.055488  0.042322  \n",
       "PRCP              0.297107  0.316041  0.208753  0.261280  \n",
       "PRCP_A            0.692748  0.691998  0.644180  0.580099  \n",
       "PRCP_S            0.545614  0.705376  0.536821  0.677092  \n",
       "PRCP_REC          1.000000  0.697903  0.642758  0.511640  \n",
       "PRCP_NIC          0.697903  1.000000  0.680195  0.701852  \n",
       "PRCP_ED           0.642758  0.680195  1.000000  0.655121  \n",
       "PRCP_WD           0.511640  0.701852  0.655121  1.000000  \n",
       "\n",
       "[32 rows x 32 columns]"
      ]
     },
     "execution_count": 38,
     "metadata": {},
     "output_type": "execute_result"
    }
   ],
   "source": [
    "data.corr()"
   ]
  },
  {
   "cell_type": "markdown",
   "metadata": {},
   "source": [
    "Given that the Ashokan East Storage (AUGEVolume) and Ashokan East Elevation (AUGEASTLEVANALOG) are highly correlated, one variable can be dropped. Since the Elevation variable is more correlated to NTU than the Storage variable is, all storage values are dropped."
   ]
  },
  {
   "cell_type": "code",
   "execution_count": 39,
   "metadata": {},
   "outputs": [
    {
     "data": {
      "text/plain": [
       "Index(['NTU', 'AUGEVolume', 'AUGEASTLEVANALOG', 'AUGWVOLUME',\n",
       "       'AUGWESTLEVANALOG', 'ASHREL', 'SICRESVOLUME', 'SICRESELEVANALOG',\n",
       "       'STPALBFLW', 'RECRESVOLUME', 'RECRESELEVANALOG', 'RECREL',\n",
       "       'NICRESVOLUME', 'NICRESELEVANALOG', 'NICNTHFLW', 'NICSTHFLW',\n",
       "       'NICCONFLW', 'EDIRESVOLUME', 'EDIRESELEVANALOG', 'EDRNTHFLW',\n",
       "       'EDRSTHFLW', 'EDRCONFLW', 'WDIRESVOLUME', 'WDIRESELEVANALOG', 'WDRFLW',\n",
       "       'PRCP', 'PRCP_A', 'PRCP_S', 'PRCP_REC', 'PRCP_NIC', 'PRCP_ED',\n",
       "       'PRCP_WD'],\n",
       "      dtype='object')"
      ]
     },
     "execution_count": 39,
     "metadata": {},
     "output_type": "execute_result"
    }
   ],
   "source": [
    "data.columns"
   ]
  },
  {
   "cell_type": "code",
   "execution_count": 40,
   "metadata": {},
   "outputs": [],
   "source": [
    "data = data.drop(columns=['AUGEVolume', 'AUGWVOLUME', 'SICRESVOLUME','RECRESVOLUME',\n",
    "       'NICRESVOLUME', 'EDIRESVOLUME', 'WDIRESVOLUME'])"
   ]
  },
  {
   "cell_type": "code",
   "execution_count": 41,
   "metadata": {},
   "outputs": [
    {
     "data": {
      "text/html": [
       "<div>\n",
       "<style scoped>\n",
       "    .dataframe tbody tr th:only-of-type {\n",
       "        vertical-align: middle;\n",
       "    }\n",
       "\n",
       "    .dataframe tbody tr th {\n",
       "        vertical-align: top;\n",
       "    }\n",
       "\n",
       "    .dataframe thead th {\n",
       "        text-align: right;\n",
       "    }\n",
       "</style>\n",
       "<table border=\"1\" class=\"dataframe\">\n",
       "  <thead>\n",
       "    <tr style=\"text-align: right;\">\n",
       "      <th></th>\n",
       "      <th>NTU</th>\n",
       "      <th>AUGEASTLEVANALOG</th>\n",
       "      <th>AUGWESTLEVANALOG</th>\n",
       "      <th>ASHREL</th>\n",
       "      <th>SICRESELEVANALOG</th>\n",
       "      <th>STPALBFLW</th>\n",
       "      <th>RECRESELEVANALOG</th>\n",
       "      <th>RECREL</th>\n",
       "      <th>NICRESELEVANALOG</th>\n",
       "      <th>NICNTHFLW</th>\n",
       "      <th>...</th>\n",
       "      <th>EDRCONFLW</th>\n",
       "      <th>WDIRESELEVANALOG</th>\n",
       "      <th>WDRFLW</th>\n",
       "      <th>PRCP</th>\n",
       "      <th>PRCP_A</th>\n",
       "      <th>PRCP_S</th>\n",
       "      <th>PRCP_REC</th>\n",
       "      <th>PRCP_NIC</th>\n",
       "      <th>PRCP_ED</th>\n",
       "      <th>PRCP_WD</th>\n",
       "    </tr>\n",
       "  </thead>\n",
       "  <tbody>\n",
       "    <tr>\n",
       "      <th>2017-11-01</th>\n",
       "      <td>0.64</td>\n",
       "      <td>577.86</td>\n",
       "      <td>577.89</td>\n",
       "      <td>18</td>\n",
       "      <td>1109.86</td>\n",
       "      <td>0.0</td>\n",
       "      <td>835.85</td>\n",
       "      <td>9.92</td>\n",
       "      <td>1430.03</td>\n",
       "      <td>38.9</td>\n",
       "      <td>...</td>\n",
       "      <td>0.0</td>\n",
       "      <td>1112.87</td>\n",
       "      <td>97.3</td>\n",
       "      <td>0.0</td>\n",
       "      <td>0.00</td>\n",
       "      <td>0.00</td>\n",
       "      <td>0.0</td>\n",
       "      <td>0.00</td>\n",
       "      <td>0.00</td>\n",
       "      <td>0.00</td>\n",
       "    </tr>\n",
       "    <tr>\n",
       "      <th>2017-11-02</th>\n",
       "      <td>0.63</td>\n",
       "      <td>577.58</td>\n",
       "      <td>578.59</td>\n",
       "      <td>11</td>\n",
       "      <td>1111.05</td>\n",
       "      <td>0.0</td>\n",
       "      <td>835.94</td>\n",
       "      <td>9.92</td>\n",
       "      <td>1429.90</td>\n",
       "      <td>39.0</td>\n",
       "      <td>...</td>\n",
       "      <td>0.0</td>\n",
       "      <td>1113.33</td>\n",
       "      <td>97.6</td>\n",
       "      <td>0.0</td>\n",
       "      <td>0.04</td>\n",
       "      <td>0.02</td>\n",
       "      <td>0.0</td>\n",
       "      <td>0.08</td>\n",
       "      <td>0.06</td>\n",
       "      <td>0.05</td>\n",
       "    </tr>\n",
       "    <tr>\n",
       "      <th>2017-11-03</th>\n",
       "      <td>0.68</td>\n",
       "      <td>577.31</td>\n",
       "      <td>579.14</td>\n",
       "      <td>12</td>\n",
       "      <td>1111.97</td>\n",
       "      <td>0.0</td>\n",
       "      <td>835.79</td>\n",
       "      <td>9.89</td>\n",
       "      <td>1429.99</td>\n",
       "      <td>39.0</td>\n",
       "      <td>...</td>\n",
       "      <td>0.0</td>\n",
       "      <td>1113.74</td>\n",
       "      <td>97.8</td>\n",
       "      <td>0.0</td>\n",
       "      <td>0.00</td>\n",
       "      <td>0.00</td>\n",
       "      <td>0.5</td>\n",
       "      <td>0.00</td>\n",
       "      <td>0.02</td>\n",
       "      <td>0.06</td>\n",
       "    </tr>\n",
       "    <tr>\n",
       "      <th>2017-11-04</th>\n",
       "      <td>0.68</td>\n",
       "      <td>576.94</td>\n",
       "      <td>579.56</td>\n",
       "      <td>12</td>\n",
       "      <td>1112.73</td>\n",
       "      <td>0.0</td>\n",
       "      <td>835.88</td>\n",
       "      <td>9.89</td>\n",
       "      <td>1430.22</td>\n",
       "      <td>39.1</td>\n",
       "      <td>...</td>\n",
       "      <td>0.0</td>\n",
       "      <td>1114.09</td>\n",
       "      <td>98.0</td>\n",
       "      <td>0.0</td>\n",
       "      <td>0.00</td>\n",
       "      <td>0.04</td>\n",
       "      <td>0.0</td>\n",
       "      <td>0.04</td>\n",
       "      <td>0.06</td>\n",
       "      <td>0.09</td>\n",
       "    </tr>\n",
       "    <tr>\n",
       "      <th>2017-11-05</th>\n",
       "      <td>0.64</td>\n",
       "      <td>576.52</td>\n",
       "      <td>579.92</td>\n",
       "      <td>12</td>\n",
       "      <td>1113.39</td>\n",
       "      <td>0.0</td>\n",
       "      <td>836.00</td>\n",
       "      <td>9.82</td>\n",
       "      <td>1430.47</td>\n",
       "      <td>39.1</td>\n",
       "      <td>...</td>\n",
       "      <td>0.0</td>\n",
       "      <td>1114.36</td>\n",
       "      <td>97.7</td>\n",
       "      <td>2.3</td>\n",
       "      <td>0.01</td>\n",
       "      <td>0.00</td>\n",
       "      <td>0.0</td>\n",
       "      <td>0.00</td>\n",
       "      <td>0.00</td>\n",
       "      <td>0.04</td>\n",
       "    </tr>\n",
       "  </tbody>\n",
       "</table>\n",
       "<p>5 rows × 25 columns</p>\n",
       "</div>"
      ],
      "text/plain": [
       "             NTU  AUGEASTLEVANALOG  AUGWESTLEVANALOG  ASHREL  \\\n",
       "2017-11-01  0.64            577.86            577.89      18   \n",
       "2017-11-02  0.63            577.58            578.59      11   \n",
       "2017-11-03  0.68            577.31            579.14      12   \n",
       "2017-11-04  0.68            576.94            579.56      12   \n",
       "2017-11-05  0.64            576.52            579.92      12   \n",
       "\n",
       "            SICRESELEVANALOG  STPALBFLW  RECRESELEVANALOG  RECREL  \\\n",
       "2017-11-01           1109.86        0.0            835.85    9.92   \n",
       "2017-11-02           1111.05        0.0            835.94    9.92   \n",
       "2017-11-03           1111.97        0.0            835.79    9.89   \n",
       "2017-11-04           1112.73        0.0            835.88    9.89   \n",
       "2017-11-05           1113.39        0.0            836.00    9.82   \n",
       "\n",
       "            NICRESELEVANALOG  NICNTHFLW  ...  EDRCONFLW  WDIRESELEVANALOG  \\\n",
       "2017-11-01           1430.03       38.9  ...        0.0           1112.87   \n",
       "2017-11-02           1429.90       39.0  ...        0.0           1113.33   \n",
       "2017-11-03           1429.99       39.0  ...        0.0           1113.74   \n",
       "2017-11-04           1430.22       39.1  ...        0.0           1114.09   \n",
       "2017-11-05           1430.47       39.1  ...        0.0           1114.36   \n",
       "\n",
       "            WDRFLW  PRCP  PRCP_A  PRCP_S  PRCP_REC  PRCP_NIC  PRCP_ED  PRCP_WD  \n",
       "2017-11-01    97.3   0.0    0.00    0.00       0.0      0.00     0.00     0.00  \n",
       "2017-11-02    97.6   0.0    0.04    0.02       0.0      0.08     0.06     0.05  \n",
       "2017-11-03    97.8   0.0    0.00    0.00       0.5      0.00     0.02     0.06  \n",
       "2017-11-04    98.0   0.0    0.00    0.04       0.0      0.04     0.06     0.09  \n",
       "2017-11-05    97.7   2.3    0.01    0.00       0.0      0.00     0.00     0.04  \n",
       "\n",
       "[5 rows x 25 columns]"
      ]
     },
     "execution_count": 41,
     "metadata": {},
     "output_type": "execute_result"
    }
   ],
   "source": [
    "data.head()"
   ]
  },
  {
   "cell_type": "code",
   "execution_count": 42,
   "metadata": {},
   "outputs": [
    {
     "data": {
      "text/plain": [
       "NTU                 float64\n",
       "AUGEASTLEVANALOG    float64\n",
       "AUGWESTLEVANALOG    float64\n",
       "ASHREL                int64\n",
       "SICRESELEVANALOG    float64\n",
       "STPALBFLW           float64\n",
       "RECRESELEVANALOG    float64\n",
       "RECREL              float64\n",
       "NICRESELEVANALOG    float64\n",
       "NICNTHFLW           float64\n",
       "NICSTHFLW           float64\n",
       "NICCONFLW           float64\n",
       "EDIRESELEVANALOG    float64\n",
       "EDRNTHFLW           float64\n",
       "EDRSTHFLW           float64\n",
       "EDRCONFLW           float64\n",
       "WDIRESELEVANALOG    float64\n",
       "WDRFLW              float64\n",
       "PRCP                float64\n",
       "PRCP_A              float64\n",
       "PRCP_S              float64\n",
       "PRCP_REC            float64\n",
       "PRCP_NIC            float64\n",
       "PRCP_ED             float64\n",
       "PRCP_WD             float64\n",
       "dtype: object"
      ]
     },
     "execution_count": 42,
     "metadata": {},
     "output_type": "execute_result"
    }
   ],
   "source": [
    "data.dtypes"
   ]
  },
  {
   "cell_type": "code",
   "execution_count": 43,
   "metadata": {},
   "outputs": [],
   "source": [
    "data = data.astype(float)"
   ]
  },
  {
   "cell_type": "markdown",
   "metadata": {},
   "source": [
    "# Classification Modeling"
   ]
  },
  {
   "cell_type": "markdown",
   "metadata": {},
   "source": [
    "Classify \"turbid events\" when turbidity is greather than 0.99 NTU."
   ]
  },
  {
   "cell_type": "code",
   "execution_count": 44,
   "metadata": {},
   "outputs": [],
   "source": [
    "df_class = pd.DataFrame(data['NTU'])"
   ]
  },
  {
   "cell_type": "code",
   "execution_count": 45,
   "metadata": {},
   "outputs": [
    {
     "name": "stderr",
     "output_type": "stream",
     "text": [
      "/Users/raei/anaconda3/lib/python3.7/site-packages/ipykernel_launcher.py:2: SettingWithCopyWarning: \n",
      "A value is trying to be set on a copy of a slice from a DataFrame\n",
      "\n",
      "See the caveats in the documentation: http://pandas.pydata.org/pandas-docs/stable/indexing.html#indexing-view-versus-copy\n",
      "  \n"
     ]
    }
   ],
   "source": [
    "df_class['Event'] = False\n",
    "df_class['Event'][(df_class['NTU'] > 0.99)] = True"
   ]
  },
  {
   "cell_type": "code",
   "execution_count": 46,
   "metadata": {},
   "outputs": [
    {
     "data": {
      "image/png": "[encoded data removed]",
      "text/plain": [
       "<Figure size 360x360 with 1 Axes>"
      ]
     },
     "metadata": {
      "needs_background": "light"
     },
     "output_type": "display_data"
    }
   ],
   "source": [
    "count_classes = pd.value_counts(df_class['Event'], sort = True).sort_index()\n",
    "count_classes.plot(kind = 'bar', figsize=(5,5), color=['#01afd1','#f6cd4c'])\n",
    "locs, _ = plt.xticks()\n",
    "plt.xticks(locs, labels=['Not Turbid','Turbid'], fontsize = 15\n",
    "#            , color='white'\n",
    "          )\n",
    "plt.xticks(rotation=0)\n",
    "# plt.yticks(color='white')\n",
    "plt.ylabel(\"Frequency\", fontsize=15, \n",
    "#            color='white'\n",
    "          )\n",
    "# for spine in plt.gca().spines.values():\n",
    "#     spine.set_edgecolor('white')\n",
    "# plt.tick_params(color='white')\n",
    "plt.savefig('class.png', dpi=500, transparent=True)"
   ]
  },
  {
   "cell_type": "markdown",
   "metadata": {},
   "source": [
    "### Splitting Data and Scaling"
   ]
  },
  {
   "cell_type": "code",
   "execution_count": 47,
   "metadata": {},
   "outputs": [],
   "source": [
    "from sklearn.model_selection import train_test_split\n",
    "y = df_class['Event']\n",
    "X = data.loc[:, data.columns != 'NTU']\n",
    "X_train, X_test, y_train, y_test= train_test_split(X, y, test_size=0.2, stratify=y, random_state=1)"
   ]
  },
  {
   "cell_type": "code",
   "execution_count": 48,
   "metadata": {},
   "outputs": [],
   "source": [
    "from sklearn.preprocessing import StandardScaler\n",
    "sc = StandardScaler()"
   ]
  },
  {
   "cell_type": "code",
   "execution_count": 49,
   "metadata": {},
   "outputs": [],
   "source": [
    "X_train = sc.fit_transform(X_train)\n",
    "X_test = sc.transform(X_test)"
   ]
  },
  {
   "cell_type": "markdown",
   "metadata": {},
   "source": [
    "### Linear SVC"
   ]
  },
  {
   "cell_type": "code",
   "execution_count": 50,
   "metadata": {},
   "outputs": [],
   "source": [
    "from sklearn.svm import LinearSVC\n",
    "lsvc = LinearSVC()"
   ]
  },
  {
   "cell_type": "code",
   "execution_count": 51,
   "metadata": {},
   "outputs": [
    {
     "name": "stderr",
     "output_type": "stream",
     "text": [
      "/Users/raei/anaconda3/lib/python3.7/site-packages/sklearn/model_selection/_split.py:2053: FutureWarning: You should specify a value for 'cv' instead of relying on the default value. The default value will change from 3 to 5 in version 0.22.\n",
      "  warnings.warn(CV_WARNING, FutureWarning)\n",
      "/Users/raei/anaconda3/lib/python3.7/site-packages/sklearn/svm/base.py:931: ConvergenceWarning: Liblinear failed to converge, increase the number of iterations.\n",
      "  \"the number of iterations.\", ConvergenceWarning)\n"
     ]
    },
    {
     "data": {
      "text/plain": [
       "GridSearchCV(cv='warn', error_score='raise-deprecating',\n",
       "       estimator=LinearSVC(C=1.0, class_weight=None, dual=True, fit_intercept=True,\n",
       "     intercept_scaling=1, loss='squared_hinge', max_iter=1000,\n",
       "     multi_class='ovr', penalty='l2', random_state=None, tol=0.0001,\n",
       "     verbose=0),\n",
       "       fit_params=None, iid='warn', n_jobs=-1,\n",
       "       param_grid=[{'C': [1, 10, 100, 1000], 'loss': ['hinge', 'squared_hinge'], 'multi_class': ['ovr', 'crammer_singer'], 'max_iter': [100, 1000, 10000]}],\n",
       "       pre_dispatch='2*n_jobs', refit=True, return_train_score='warn',\n",
       "       scoring=None, verbose=0)"
      ]
     },
     "execution_count": 51,
     "metadata": {},
     "output_type": "execute_result"
    }
   ],
   "source": [
    "from sklearn.model_selection import GridSearchCV\n",
    "parameter_candidates = [\n",
    "  {'C': [1, 10, 100, 1000], 'loss': ['hinge','squared_hinge'],\n",
    "  'multi_class': ['ovr', 'crammer_singer'], 'max_iter': [100, 1000, 10000]}\n",
    "]\n",
    "grid_lsvc = GridSearchCV(estimator=lsvc, param_grid=parameter_candidates, n_jobs=-1)\n",
    "grid_lsvc.fit(X_train, y_train)"
   ]
  },
  {
   "cell_type": "code",
   "execution_count": 52,
   "metadata": {},
   "outputs": [
    {
     "data": {
      "text/plain": [
       "{'C': 1, 'loss': 'hinge', 'max_iter': 100, 'multi_class': 'ovr'}"
      ]
     },
     "execution_count": 52,
     "metadata": {},
     "output_type": "execute_result"
    }
   ],
   "source": [
    "grid_lsvc.best_params_"
   ]
  },
  {
   "cell_type": "code",
   "execution_count": 53,
   "metadata": {},
   "outputs": [],
   "source": [
    "lscv = LinearSVC(C= 1, loss= 'hinge', max_iter= 100, multi_class= 'ovr')"
   ]
  },
  {
   "cell_type": "code",
   "execution_count": 54,
   "metadata": {},
   "outputs": [
    {
     "name": "stdout",
     "output_type": "stream",
     "text": [
      "0.9310344827586207\n",
      "0.855832241153342\n"
     ]
    },
    {
     "name": "stderr",
     "output_type": "stream",
     "text": [
      "/Users/raei/anaconda3/lib/python3.7/site-packages/sklearn/svm/base.py:931: ConvergenceWarning: Liblinear failed to converge, increase the number of iterations.\n",
      "  \"the number of iterations.\", ConvergenceWarning)\n"
     ]
    }
   ],
   "source": [
    "from sklearn.metrics import accuracy_score\n",
    "lsvc.fit(X_train, y_train)\n",
    "y_pred = lsvc.predict(X_test)\n",
    "print(accuracy_score(y_test, y_pred))\n",
    "\n",
    "from sklearn.metrics import roc_curve, auc\n",
    "y_score = lsvc.decision_function(X_test)\n",
    "FPR, TPR, _ = roc_curve(y_test, y_score)\n",
    "ROC_AUC = auc(FPR, TPR)\n",
    "print(ROC_AUC)"
   ]
  },
  {
   "cell_type": "code",
   "execution_count": 55,
   "metadata": {},
   "outputs": [
    {
     "data": {
      "image/png": "[encoded data removed]",
      "text/plain": [
       "<Figure size 360x360 with 1 Axes>"
      ]
     },
     "metadata": {
      "needs_background": "light"
     },
     "output_type": "display_data"
    }
   ],
   "source": [
    "\n",
    "plt.figure(figsize=(5,5))\n",
    "plt.plot(FPR, TPR, label= 'ROC curve(area = %0.2f)'%ROC_AUC, linewidth= 2, color='#01afd1')\n",
    "plt.plot([0,1],[0,1], 'k--', linewidth = 2)\n",
    "plt.xlim([0.0,1.0])\n",
    "plt.ylim([0.0,1.01])\n",
    "plt.xlabel('False Positive Rate', fontsize = 15)\n",
    "plt.ylabel('True Positive Rate', fontsize = 15)\n",
    "plt.title('ROC - Linear SVC', fontsize= 15)\n",
    "plt.savefig('roc.png', dpi=500, transparent=True)"
   ]
  },
  {
   "cell_type": "markdown",
   "metadata": {},
   "source": [
    "### KNN Classifier"
   ]
  },
  {
   "cell_type": "code",
   "execution_count": 512,
   "metadata": {},
   "outputs": [
    {
     "name": "stderr",
     "output_type": "stream",
     "text": [
      "/Users/raei/anaconda3/lib/python3.7/site-packages/sklearn/model_selection/_split.py:2053: FutureWarning: You should specify a value for 'cv' instead of relying on the default value. The default value will change from 3 to 5 in version 0.22.\n",
      "  warnings.warn(CV_WARNING, FutureWarning)\n"
     ]
    },
    {
     "data": {
      "text/plain": [
       "GridSearchCV(cv='warn', error_score='raise-deprecating',\n",
       "       estimator=KNeighborsClassifier(algorithm='auto', leaf_size=30, metric='minkowski',\n",
       "           metric_params=None, n_jobs=None, n_neighbors=5, p=2,\n",
       "           weights='uniform'),\n",
       "       fit_params=None, iid='warn', n_jobs=-1,\n",
       "       param_grid=[{'algorithm': ['auto', 'ball_tree', 'kd_tree', 'brute'], 'leaf_size': [5, 15, 30, 60], 'n_neighbors': [3, 5, 10, 15, 20], 'weights': ['uniform', 'distance']}],\n",
       "       pre_dispatch='2*n_jobs', refit=True, return_train_score='warn',\n",
       "       scoring=None, verbose=0)"
      ]
     },
     "execution_count": 512,
     "metadata": {},
     "output_type": "execute_result"
    }
   ],
   "source": [
    "from sklearn.neighbors import KNeighborsClassifier\n",
    "knn = KNeighborsClassifier()\n",
    "parameter_candidates = [\n",
    "  {'algorithm': ['auto', 'ball_tree', 'kd_tree', 'brute'], 'leaf_size': [5, 15, 30, 60],\n",
    "  'n_neighbors': [3,5, 10, 15, 20], 'weights': ['uniform', 'distance']}\n",
    "]\n",
    "grid_knn = GridSearchCV(estimator=knn, param_grid=parameter_candidates, n_jobs=-1)\n",
    "grid_knn.fit(X_train, y_train)"
   ]
  },
  {
   "cell_type": "code",
   "execution_count": 513,
   "metadata": {},
   "outputs": [
    {
     "data": {
      "text/plain": [
       "{'algorithm': 'auto', 'leaf_size': 5, 'n_neighbors': 3, 'weights': 'uniform'}"
      ]
     },
     "execution_count": 513,
     "metadata": {},
     "output_type": "execute_result"
    }
   ],
   "source": [
    "grid_knn.best_params_"
   ]
  },
  {
   "cell_type": "code",
   "execution_count": 514,
   "metadata": {},
   "outputs": [],
   "source": [
    "knn = KNeighborsClassifier(algorithm= 'auto', leaf_size= 5, n_neighbors= 3, weights= 'uniform')"
   ]
  },
  {
   "cell_type": "code",
   "execution_count": 515,
   "metadata": {},
   "outputs": [
    {
     "data": {
      "text/plain": [
       "KNeighborsClassifier(algorithm='auto', leaf_size=5, metric='minkowski',\n",
       "           metric_params=None, n_jobs=None, n_neighbors=3, p=2,\n",
       "           weights='uniform')"
      ]
     },
     "execution_count": 515,
     "metadata": {},
     "output_type": "execute_result"
    }
   ],
   "source": [
    "knn.fit(X_train, y_train)"
   ]
  },
  {
   "cell_type": "code",
   "execution_count": 516,
   "metadata": {},
   "outputs": [
    {
     "name": "stdout",
     "output_type": "stream",
     "text": [
      "0.9396551724137931\n",
      "0.6336828309305373\n"
     ]
    }
   ],
   "source": [
    "y_pred = knn.predict(X_test)\n",
    "print(accuracy_score(y_test, y_pred))\n",
    "FPR, TPR, _ = roc_curve(y_test, y_pred)\n",
    "ROC_AUC = auc(FPR, TPR)\n",
    "print (ROC_AUC)"
   ]
  },
  {
   "cell_type": "code",
   "execution_count": 517,
   "metadata": {},
   "outputs": [
    {
     "data": {
      "image/png": "[encoded data removed]",
      "text/plain": [
       "<Figure size 432x288 with 1 Axes>"
      ]
     },
     "metadata": {
      "needs_background": "light"
     },
     "output_type": "display_data"
    }
   ],
   "source": [
    "plt.figure()\n",
    "plt.plot(FPR, TPR, label= 'ROC curve(area = %0.2f)'%ROC_AUC, linewidth= 2)\n",
    "plt.plot([0,1],[0,1], 'k--', linewidth = 2)\n",
    "plt.xlim([0.0,1.0])\n",
    "plt.ylim([-0.01,1.0])\n",
    "plt.xlabel('False Positive Rate', fontsize = 14)\n",
    "plt.ylabel('True Positive Rate', fontsize = 14)\n",
    "plt.title('ROC - KNN', fontsize= 18)\n",
    "plt.show()"
   ]
  },
  {
   "cell_type": "markdown",
   "metadata": {},
   "source": [
    "### Random Forest"
   ]
  },
  {
   "cell_type": "code",
   "execution_count": 518,
   "metadata": {},
   "outputs": [],
   "source": [
    "from sklearn.ensemble import RandomForestClassifier\n",
    "rf = RandomForestClassifier()"
   ]
  },
  {
   "cell_type": "code",
   "execution_count": 519,
   "metadata": {},
   "outputs": [
    {
     "name": "stderr",
     "output_type": "stream",
     "text": [
      "/Users/raei/anaconda3/lib/python3.7/site-packages/sklearn/model_selection/_split.py:2053: FutureWarning: You should specify a value for 'cv' instead of relying on the default value. The default value will change from 3 to 5 in version 0.22.\n",
      "  warnings.warn(CV_WARNING, FutureWarning)\n"
     ]
    },
    {
     "data": {
      "text/plain": [
       "GridSearchCV(cv='warn', error_score='raise-deprecating',\n",
       "       estimator=RandomForestClassifier(bootstrap=True, class_weight=None, criterion='gini',\n",
       "            max_depth=None, max_features='auto', max_leaf_nodes=None,\n",
       "            min_impurity_decrease=0.0, min_impurity_split=None,\n",
       "            min_samples_leaf=1, min_samples_split=2,\n",
       "            min_weight_fraction_leaf=0.0, n_estimators='warn', n_jobs=None,\n",
       "            oob_score=False, random_state=None, verbose=0,\n",
       "            warm_start=False),\n",
       "       fit_params=None, iid='warn', n_jobs=-1,\n",
       "       param_grid=[{'n_estimators': [10, 100, 1000, 10000], 'criterion': ['gini', 'entropy'], 'bootstrap': [True, False]}],\n",
       "       pre_dispatch='2*n_jobs', refit=True, return_train_score='warn',\n",
       "       scoring=None, verbose=0)"
      ]
     },
     "execution_count": 519,
     "metadata": {},
     "output_type": "execute_result"
    }
   ],
   "source": [
    "parameter_candidates = [\n",
    "  {'n_estimators': [10, 100, 1000, 10000], 'criterion': ['gini', 'entropy'],\n",
    "  'bootstrap': [True, False]}\n",
    "]\n",
    "grid_rf = GridSearchCV(estimator=rf, param_grid=parameter_candidates, n_jobs=-1)\n",
    "grid_rf.fit(X_train, y_train)"
   ]
  },
  {
   "cell_type": "code",
   "execution_count": 520,
   "metadata": {},
   "outputs": [
    {
     "data": {
      "text/plain": [
       "{'bootstrap': True, 'criterion': 'entropy', 'n_estimators': 10}"
      ]
     },
     "execution_count": 520,
     "metadata": {},
     "output_type": "execute_result"
    }
   ],
   "source": [
    "grid_rf.best_params_"
   ]
  },
  {
   "cell_type": "code",
   "execution_count": 521,
   "metadata": {},
   "outputs": [
    {
     "data": {
      "text/plain": [
       "RandomForestClassifier(bootstrap=True, class_weight=None, criterion='entropy',\n",
       "            max_depth=None, max_features='auto', max_leaf_nodes=None,\n",
       "            min_impurity_decrease=0.0, min_impurity_split=None,\n",
       "            min_samples_leaf=1, min_samples_split=2,\n",
       "            min_weight_fraction_leaf=0.0, n_estimators=10, n_jobs=None,\n",
       "            oob_score=False, random_state=None, verbose=0,\n",
       "            warm_start=False)"
      ]
     },
     "execution_count": 521,
     "metadata": {},
     "output_type": "execute_result"
    }
   ],
   "source": [
    "rf = RandomForestClassifier(bootstrap= True, criterion= 'entropy', n_estimators= 10)\n",
    "rf.fit(X_train, y_train)"
   ]
  },
  {
   "cell_type": "code",
   "execution_count": 522,
   "metadata": {},
   "outputs": [
    {
     "name": "stdout",
     "output_type": "stream",
     "text": [
      "0.9482758620689655\n",
      "0.6382699868938401\n"
     ]
    }
   ],
   "source": [
    "y_pred = rf.predict(X_test)\n",
    "print(accuracy_score(y_test, y_pred))\n",
    "FPR, TPR, _ = roc_curve(y_test, y_pred)\n",
    "ROC_AUC = auc(FPR, TPR)\n",
    "print (ROC_AUC)"
   ]
  },
  {
   "cell_type": "code",
   "execution_count": 523,
   "metadata": {},
   "outputs": [
    {
     "data": {
      "image/png": "[encoded data removed]",
      "text/plain": [
       "<Figure size 432x288 with 1 Axes>"
      ]
     },
     "metadata": {
      "needs_background": "light"
     },
     "output_type": "display_data"
    }
   ],
   "source": [
    "plt.figure()\n",
    "plt.plot(FPR, TPR, label= 'ROC curve(area = %0.2f)'%ROC_AUC, linewidth= 2)\n",
    "plt.plot([0,1],[0,1], 'k--', linewidth = 2)\n",
    "plt.xlim([-0.01,1.0])\n",
    "plt.ylim([0.0,1.0])\n",
    "plt.xlabel('False Positive Rate', fontsize = 14)\n",
    "plt.ylabel('True Positive Rate', fontsize = 14)\n",
    "plt.title('ROC - Random Forest', fontsize= 18)\n",
    "plt.show()"
   ]
  },
  {
   "cell_type": "markdown",
   "metadata": {},
   "source": [
    "----"
   ]
  },
  {
   "cell_type": "markdown",
   "metadata": {},
   "source": [
    "Among the classification models, the best to use was the Linear SVC."
   ]
  },
  {
   "cell_type": "code",
   "execution_count": 524,
   "metadata": {},
   "outputs": [
    {
     "data": {
      "text/plain": [
       "array([[108,   1],\n",
       "       [  7,   0]])"
      ]
     },
     "execution_count": 524,
     "metadata": {},
     "output_type": "execute_result"
    }
   ],
   "source": [
    "from sklearn.metrics import confusion_matrix\n",
    "y_pred = lsvc.predict(X_test)\n",
    "confusion_matrix(y_test, y_pred)"
   ]
  },
  {
   "cell_type": "code",
   "execution_count": 525,
   "metadata": {},
   "outputs": [
    {
     "data": {
      "text/html": [
       "<div>\n",
       "<style scoped>\n",
       "    .dataframe tbody tr th:only-of-type {\n",
       "        vertical-align: middle;\n",
       "    }\n",
       "\n",
       "    .dataframe tbody tr th {\n",
       "        vertical-align: top;\n",
       "    }\n",
       "\n",
       "    .dataframe thead th {\n",
       "        text-align: right;\n",
       "    }\n",
       "</style>\n",
       "<table border=\"1\" class=\"dataframe\">\n",
       "  <thead>\n",
       "    <tr style=\"text-align: right;\">\n",
       "      <th></th>\n",
       "      <th>importance</th>\n",
       "    </tr>\n",
       "  </thead>\n",
       "  <tbody>\n",
       "    <tr>\n",
       "      <th>EDRSTHFLW</th>\n",
       "      <td>0.802875</td>\n",
       "    </tr>\n",
       "    <tr>\n",
       "      <th>AUGEASTLEVANALOG</th>\n",
       "      <td>0.645747</td>\n",
       "    </tr>\n",
       "    <tr>\n",
       "      <th>WDIRESELEVANALOG</th>\n",
       "      <td>0.608006</td>\n",
       "    </tr>\n",
       "    <tr>\n",
       "      <th>PRCP_REC</th>\n",
       "      <td>0.209387</td>\n",
       "    </tr>\n",
       "    <tr>\n",
       "      <th>PRCP_WD</th>\n",
       "      <td>0.208479</td>\n",
       "    </tr>\n",
       "    <tr>\n",
       "      <th>PRCP_ED</th>\n",
       "      <td>0.166462</td>\n",
       "    </tr>\n",
       "    <tr>\n",
       "      <th>STPALBFLW</th>\n",
       "      <td>0.125980</td>\n",
       "    </tr>\n",
       "    <tr>\n",
       "      <th>AUGWESTLEVANALOG</th>\n",
       "      <td>0.117078</td>\n",
       "    </tr>\n",
       "    <tr>\n",
       "      <th>NICNTHFLW</th>\n",
       "      <td>0.060350</td>\n",
       "    </tr>\n",
       "    <tr>\n",
       "      <th>PRCP</th>\n",
       "      <td>0.020334</td>\n",
       "    </tr>\n",
       "  </tbody>\n",
       "</table>\n",
       "</div>"
      ],
      "text/plain": [
       "                  importance\n",
       "EDRSTHFLW           0.802875\n",
       "AUGEASTLEVANALOG    0.645747\n",
       "WDIRESELEVANALOG    0.608006\n",
       "PRCP_REC            0.209387\n",
       "PRCP_WD             0.208479\n",
       "PRCP_ED             0.166462\n",
       "STPALBFLW           0.125980\n",
       "AUGWESTLEVANALOG    0.117078\n",
       "NICNTHFLW           0.060350\n",
       "PRCP                0.020334"
      ]
     },
     "execution_count": 525,
     "metadata": {},
     "output_type": "execute_result"
    }
   ],
   "source": [
    "column_names = list(X.columns.values)\n",
    "feature_importances = pd.DataFrame(lsvc.coef_.reshape(-1,1),\n",
    "                                    index = column_names,\n",
    "                                    columns=['importance'])\n",
    "feature_importances.sort_values(by='importance', ascending=False).head(10)"
   ]
  },
  {
   "cell_type": "markdown",
   "metadata": {},
   "source": [
    "* Ashokan / A - West Hurley\n",
    "* Schoharie / S - Lansing\n",
    "* Rondout / REC\n",
    "* Neversink / NIC - Callicoon\n",
    "* Pepacton / ED - Long Eddy\n",
    "* Cannonsville / WD - Walton\n",
    "\n",
    "The most important features are **Pepacton South Flow Release, Ashokan East Elevation and Cannonsville Elevation**. These reservoirs are the largest among them all."
   ]
  },
  {
   "cell_type": "markdown",
   "metadata": {},
   "source": [
    "## Regression Modelling"
   ]
  },
  {
   "cell_type": "markdown",
   "metadata": {},
   "source": [
    "### Splitting Date and Scaling"
   ]
  },
  {
   "cell_type": "code",
   "execution_count": 89,
   "metadata": {},
   "outputs": [],
   "source": [
    "from sklearn.model_selection import train_test_split\n",
    "y = data['NTU']\n",
    "X = data.loc[:, data.columns != 'NTU']\n",
    "X_train, X_test, y_train, y_test= train_test_split(X, y, test_size=0.2, random_state=1)"
   ]
  },
  {
   "cell_type": "code",
   "execution_count": 90,
   "metadata": {},
   "outputs": [],
   "source": [
    "X_train = sc.fit_transform(X_train)\n",
    "X_test = sc.transform(X_test)"
   ]
  },
  {
   "cell_type": "markdown",
   "metadata": {},
   "source": [
    "### Linear Regression"
   ]
  },
  {
   "cell_type": "code",
   "execution_count": 91,
   "metadata": {},
   "outputs": [
    {
     "data": {
      "text/plain": [
       "LinearRegression(copy_X=True, fit_intercept=True, n_jobs=None,\n",
       "         normalize=False)"
      ]
     },
     "execution_count": 91,
     "metadata": {},
     "output_type": "execute_result"
    }
   ],
   "source": [
    "from sklearn.linear_model import LinearRegression\n",
    "lr = LinearRegression()\n",
    "lr.fit(X_train, y_train)"
   ]
  },
  {
   "cell_type": "code",
   "execution_count": 114,
   "metadata": {},
   "outputs": [],
   "source": [
    "y_pred = lr.predict(X_test).reshape(-1,1)\n",
    "y__test = y_test.values.reshape(-1,1)"
   ]
  },
  {
   "cell_type": "code",
   "execution_count": 115,
   "metadata": {},
   "outputs": [
    {
     "data": {
      "text/plain": [
       "(116, 1)"
      ]
     },
     "execution_count": 115,
     "metadata": {},
     "output_type": "execute_result"
    }
   ],
   "source": [
    "y__test.shape"
   ]
  },
  {
   "cell_type": "code",
   "execution_count": 116,
   "metadata": {},
   "outputs": [
    {
     "data": {
      "text/plain": [
       "(116, 1)"
      ]
     },
     "execution_count": 116,
     "metadata": {},
     "output_type": "execute_result"
    }
   ],
   "source": [
    "y_pred.shape"
   ]
  },
  {
   "cell_type": "code",
   "execution_count": 119,
   "metadata": {},
   "outputs": [
    {
     "ename": "ValueError",
     "evalue": "shapes (116,1) and (24,) not aligned: 1 (dim 1) != 24 (dim 0)",
     "output_type": "error",
     "traceback": [
      "\u001b[0;31m---------------------------------------------------------------------------\u001b[0m",
      "\u001b[0;31mValueError\u001b[0m                                Traceback (most recent call last)",
      "\u001b[0;32m<ipython-input-119-395305d8185e>\u001b[0m in \u001b[0;36m<module>\u001b[0;34m\u001b[0m\n\u001b[0;32m----> 1\u001b[0;31m \u001b[0mlr\u001b[0m\u001b[0;34m.\u001b[0m\u001b[0mscore\u001b[0m\u001b[0;34m(\u001b[0m\u001b[0my__test\u001b[0m\u001b[0;34m,\u001b[0m \u001b[0my_pred\u001b[0m\u001b[0;34m)\u001b[0m\u001b[0;34m\u001b[0m\u001b[0;34m\u001b[0m\u001b[0m\n\u001b[0m",
      "\u001b[0;32m~/anaconda3/lib/python3.7/site-packages/sklearn/base.py\u001b[0m in \u001b[0;36mscore\u001b[0;34m(self, X, y, sample_weight)\u001b[0m\n\u001b[1;32m    328\u001b[0m \u001b[0;34m\u001b[0m\u001b[0m\n\u001b[1;32m    329\u001b[0m         \u001b[0;32mfrom\u001b[0m \u001b[0;34m.\u001b[0m\u001b[0mmetrics\u001b[0m \u001b[0;32mimport\u001b[0m \u001b[0mr2_score\u001b[0m\u001b[0;34m\u001b[0m\u001b[0;34m\u001b[0m\u001b[0m\n\u001b[0;32m--> 330\u001b[0;31m         return r2_score(y, self.predict(X), sample_weight=sample_weight,\n\u001b[0m\u001b[1;32m    331\u001b[0m                         multioutput='variance_weighted')\n\u001b[1;32m    332\u001b[0m \u001b[0;34m\u001b[0m\u001b[0m\n",
      "\u001b[0;32m~/anaconda3/lib/python3.7/site-packages/sklearn/linear_model/base.py\u001b[0m in \u001b[0;36mpredict\u001b[0;34m(self, X)\u001b[0m\n\u001b[1;32m    211\u001b[0m             \u001b[0mReturns\u001b[0m \u001b[0mpredicted\u001b[0m \u001b[0mvalues\u001b[0m\u001b[0;34m.\u001b[0m\u001b[0;34m\u001b[0m\u001b[0;34m\u001b[0m\u001b[0m\n\u001b[1;32m    212\u001b[0m         \"\"\"\n\u001b[0;32m--> 213\u001b[0;31m         \u001b[0;32mreturn\u001b[0m \u001b[0mself\u001b[0m\u001b[0;34m.\u001b[0m\u001b[0m_decision_function\u001b[0m\u001b[0;34m(\u001b[0m\u001b[0mX\u001b[0m\u001b[0;34m)\u001b[0m\u001b[0;34m\u001b[0m\u001b[0;34m\u001b[0m\u001b[0m\n\u001b[0m\u001b[1;32m    214\u001b[0m \u001b[0;34m\u001b[0m\u001b[0m\n\u001b[1;32m    215\u001b[0m     \u001b[0m_preprocess_data\u001b[0m \u001b[0;34m=\u001b[0m \u001b[0mstaticmethod\u001b[0m\u001b[0;34m(\u001b[0m\u001b[0m_preprocess_data\u001b[0m\u001b[0;34m)\u001b[0m\u001b[0;34m\u001b[0m\u001b[0;34m\u001b[0m\u001b[0m\n",
      "\u001b[0;32m~/anaconda3/lib/python3.7/site-packages/sklearn/linear_model/base.py\u001b[0m in \u001b[0;36m_decision_function\u001b[0;34m(self, X)\u001b[0m\n\u001b[1;32m    196\u001b[0m         \u001b[0mX\u001b[0m \u001b[0;34m=\u001b[0m \u001b[0mcheck_array\u001b[0m\u001b[0;34m(\u001b[0m\u001b[0mX\u001b[0m\u001b[0;34m,\u001b[0m \u001b[0maccept_sparse\u001b[0m\u001b[0;34m=\u001b[0m\u001b[0;34m[\u001b[0m\u001b[0;34m'csr'\u001b[0m\u001b[0;34m,\u001b[0m \u001b[0;34m'csc'\u001b[0m\u001b[0;34m,\u001b[0m \u001b[0;34m'coo'\u001b[0m\u001b[0;34m]\u001b[0m\u001b[0;34m)\u001b[0m\u001b[0;34m\u001b[0m\u001b[0;34m\u001b[0m\u001b[0m\n\u001b[1;32m    197\u001b[0m         return safe_sparse_dot(X, self.coef_.T,\n\u001b[0;32m--> 198\u001b[0;31m                                dense_output=True) + self.intercept_\n\u001b[0m\u001b[1;32m    199\u001b[0m \u001b[0;34m\u001b[0m\u001b[0m\n\u001b[1;32m    200\u001b[0m     \u001b[0;32mdef\u001b[0m \u001b[0mpredict\u001b[0m\u001b[0;34m(\u001b[0m\u001b[0mself\u001b[0m\u001b[0;34m,\u001b[0m \u001b[0mX\u001b[0m\u001b[0;34m)\u001b[0m\u001b[0;34m:\u001b[0m\u001b[0;34m\u001b[0m\u001b[0;34m\u001b[0m\u001b[0m\n",
      "\u001b[0;32m~/anaconda3/lib/python3.7/site-packages/sklearn/utils/extmath.py\u001b[0m in \u001b[0;36msafe_sparse_dot\u001b[0;34m(a, b, dense_output)\u001b[0m\n\u001b[1;32m    171\u001b[0m         \u001b[0;32mreturn\u001b[0m \u001b[0mret\u001b[0m\u001b[0;34m\u001b[0m\u001b[0;34m\u001b[0m\u001b[0m\n\u001b[1;32m    172\u001b[0m     \u001b[0;32melse\u001b[0m\u001b[0;34m:\u001b[0m\u001b[0;34m\u001b[0m\u001b[0;34m\u001b[0m\u001b[0m\n\u001b[0;32m--> 173\u001b[0;31m         \u001b[0;32mreturn\u001b[0m \u001b[0mnp\u001b[0m\u001b[0;34m.\u001b[0m\u001b[0mdot\u001b[0m\u001b[0;34m(\u001b[0m\u001b[0ma\u001b[0m\u001b[0;34m,\u001b[0m \u001b[0mb\u001b[0m\u001b[0;34m)\u001b[0m\u001b[0;34m\u001b[0m\u001b[0;34m\u001b[0m\u001b[0m\n\u001b[0m\u001b[1;32m    174\u001b[0m \u001b[0;34m\u001b[0m\u001b[0m\n\u001b[1;32m    175\u001b[0m \u001b[0;34m\u001b[0m\u001b[0m\n",
      "\u001b[0;31mValueError\u001b[0m: shapes (116,1) and (24,) not aligned: 1 (dim 1) != 24 (dim 0)"
     ]
    }
   ],
   "source": [
    "lr.score(y__test, y_pred)"
   ]
  },
  {
   "cell_type": "code",
   "execution_count": 60,
   "metadata": {},
   "outputs": [
    {
     "name": "stdout",
     "output_type": "stream",
     "text": [
      "Mean Absolute Error: 0.07515965507571531\n",
      "Mean Squared Error: 0.011338189865467392\n",
      "Root Mean Squared Error: 0.10648093662936757\n"
     ]
    }
   ],
   "source": [
    "from sklearn import metrics\n",
    "print('Mean Absolute Error:', metrics.mean_absolute_error(y_test, y_pred))  \n",
    "print('Mean Squared Error:', metrics.mean_squared_error(y_test, y_pred))  \n",
    "print('Root Mean Squared Error:', np.sqrt(metrics.mean_squared_error(y_test, y_pred)))  "
   ]
  },
  {
   "cell_type": "markdown",
   "metadata": {},
   "source": [
    "### XGBoost Regression"
   ]
  },
  {
   "cell_type": "code",
   "execution_count": 61,
   "metadata": {},
   "outputs": [],
   "source": [
    "from xgboost import XGBRegressor"
   ]
  },
  {
   "cell_type": "code",
   "execution_count": 62,
   "metadata": {},
   "outputs": [
    {
     "name": "stderr",
     "output_type": "stream",
     "text": [
      "/Users/raei/anaconda3/lib/python3.7/site-packages/sklearn/model_selection/_split.py:2053: FutureWarning: You should specify a value for 'cv' instead of relying on the default value. The default value will change from 3 to 5 in version 0.22.\n",
      "  warnings.warn(CV_WARNING, FutureWarning)\n"
     ]
    },
    {
     "name": "stdout",
     "output_type": "stream",
     "text": [
      "[18:37:21] WARNING: src/objective/regression_obj.cu:152: reg:linear is now deprecated in favor of reg:squarederror.\n"
     ]
    },
    {
     "name": "stderr",
     "output_type": "stream",
     "text": [
      "/Users/raei/anaconda3/lib/python3.7/site-packages/sklearn/model_selection/_search.py:841: DeprecationWarning: The default of the `iid` parameter will change from True to False in version 0.22 and will be removed in 0.24. This will change numeric results when test-set sizes are unequal.\n",
      "  DeprecationWarning)\n",
      "/Users/raei/anaconda3/lib/python3.7/site-packages/xgboost/core.py:587: FutureWarning: Series.base is deprecated and will be removed in a future version\n",
      "  if getattr(data, 'base', None) is not None and \\\n"
     ]
    },
    {
     "data": {
      "text/plain": [
       "GridSearchCV(cv='warn', error_score='raise-deprecating',\n",
       "       estimator=XGBRegressor(base_score=0.5, booster='gbtree', colsample_bylevel=1,\n",
       "       colsample_bynode=1, colsample_bytree=1, gamma=0,\n",
       "       importance_type='gain', learning_rate=0.1, max_delta_step=0,\n",
       "       max_depth=3, min_child_weight=1, missing=None, n_estimators=100,\n",
       "       n_jobs=1, nthread=None, objective='reg:linear', random_state=0,\n",
       "       reg_alpha=0, reg_lambda=1, scale_pos_weight=1, seed=None,\n",
       "       silent=None, subsample=1, verbosity=1),\n",
       "       fit_params=None, iid='warn', n_jobs=-1,\n",
       "       param_grid=[{'learning_rate': [0.05, 0.1, 0.2, 0.5], 'n_estimators': [10, 100, 150, 200, 250], 'booster': ['gbtree', 'gblinear', 'dart']}],\n",
       "       pre_dispatch='2*n_jobs', refit=True, return_train_score='warn',\n",
       "       scoring=None, verbose=0)"
      ]
     },
     "execution_count": 62,
     "metadata": {},
     "output_type": "execute_result"
    }
   ],
   "source": [
    "parameter_candidates = [\n",
    "  {'learning_rate': [0.05, 0.1, 0.2, 0.5], 'n_estimators': [10, 100, 150, 200, 250],\n",
    "  'booster': ['gbtree', 'gblinear', 'dart']}\n",
    "]\n",
    "grid_xgb = GridSearchCV(estimator=XGBRegressor(), param_grid=parameter_candidates, n_jobs=-1)\n",
    "grid_xgb.fit(X_train, y_train)"
   ]
  },
  {
   "cell_type": "code",
   "execution_count": 63,
   "metadata": {},
   "outputs": [
    {
     "data": {
      "text/plain": [
       "{'booster': 'gbtree', 'learning_rate': 0.2, 'n_estimators': 250}"
      ]
     },
     "execution_count": 63,
     "metadata": {},
     "output_type": "execute_result"
    }
   ],
   "source": [
    "grid_xgb.best_params_"
   ]
  },
  {
   "cell_type": "code",
   "execution_count": 64,
   "metadata": {},
   "outputs": [
    {
     "name": "stdout",
     "output_type": "stream",
     "text": [
      "[18:37:25] WARNING: src/objective/regression_obj.cu:152: reg:linear is now deprecated in favor of reg:squarederror.\n"
     ]
    },
    {
     "data": {
      "text/plain": [
       "XGBRegressor(base_score=0.5, booster='gbtree', colsample_bylevel=1,\n",
       "       colsample_bynode=1, colsample_bytree=1, gamma=0,\n",
       "       importance_type='gain', learning_rate=0.2, max_delta_step=0,\n",
       "       max_depth=3, min_child_weight=1, missing=None, n_estimators=250,\n",
       "       n_jobs=1, nthread=None, objective='reg:linear', random_state=0,\n",
       "       reg_alpha=0, reg_lambda=1, scale_pos_weight=1, seed=None,\n",
       "       silent=None, subsample=1, verbosity=1)"
      ]
     },
     "execution_count": 64,
     "metadata": {},
     "output_type": "execute_result"
    }
   ],
   "source": [
    "xgb = XGBRegressor(booster= 'gbtree', learning_rate= 0.2, n_estimators= 250)\n",
    "xgb.fit(X_train, y_train)"
   ]
  },
  {
   "cell_type": "code",
   "execution_count": 65,
   "metadata": {},
   "outputs": [
    {
     "name": "stdout",
     "output_type": "stream",
     "text": [
      "Mean Absolute Error: 0.0412194393009975\n",
      "Mean Squared Error: 0.002843361651518596\n",
      "Root Mean Squared Error: 0.05332318118340837\n"
     ]
    }
   ],
   "source": [
    "y_pred = xgb.predict(X_test)\n",
    "print('Mean Absolute Error:', metrics.mean_absolute_error(y_test, y_pred))  \n",
    "print('Mean Squared Error:', metrics.mean_squared_error(y_test, y_pred))  \n",
    "print('Root Mean Squared Error:', np.sqrt(metrics.mean_squared_error(y_test, y_pred)))  "
   ]
  },
  {
   "cell_type": "code",
   "execution_count": 66,
   "metadata": {},
   "outputs": [
    {
     "data": {
      "text/html": [
       "<div>\n",
       "<style scoped>\n",
       "    .dataframe tbody tr th:only-of-type {\n",
       "        vertical-align: middle;\n",
       "    }\n",
       "\n",
       "    .dataframe tbody tr th {\n",
       "        vertical-align: top;\n",
       "    }\n",
       "\n",
       "    .dataframe thead th {\n",
       "        text-align: right;\n",
       "    }\n",
       "</style>\n",
       "<table border=\"1\" class=\"dataframe\">\n",
       "  <thead>\n",
       "    <tr style=\"text-align: right;\">\n",
       "      <th></th>\n",
       "      <th>importance</th>\n",
       "    </tr>\n",
       "  </thead>\n",
       "  <tbody>\n",
       "    <tr>\n",
       "      <th>RECREL</th>\n",
       "      <td>0.210647</td>\n",
       "    </tr>\n",
       "    <tr>\n",
       "      <th>NICNTHFLW</th>\n",
       "      <td>0.104776</td>\n",
       "    </tr>\n",
       "    <tr>\n",
       "      <th>EDRSTHFLW</th>\n",
       "      <td>0.104498</td>\n",
       "    </tr>\n",
       "    <tr>\n",
       "      <th>WDIRESELEVANALOG</th>\n",
       "      <td>0.088635</td>\n",
       "    </tr>\n",
       "    <tr>\n",
       "      <th>ASHREL</th>\n",
       "      <td>0.077748</td>\n",
       "    </tr>\n",
       "    <tr>\n",
       "      <th>EDRNTHFLW</th>\n",
       "      <td>0.051839</td>\n",
       "    </tr>\n",
       "    <tr>\n",
       "      <th>STPALBFLW</th>\n",
       "      <td>0.050943</td>\n",
       "    </tr>\n",
       "    <tr>\n",
       "      <th>NICRESELEVANALOG</th>\n",
       "      <td>0.050057</td>\n",
       "    </tr>\n",
       "    <tr>\n",
       "      <th>NICSTHFLW</th>\n",
       "      <td>0.048772</td>\n",
       "    </tr>\n",
       "    <tr>\n",
       "      <th>EDIRESELEVANALOG</th>\n",
       "      <td>0.038412</td>\n",
       "    </tr>\n",
       "  </tbody>\n",
       "</table>\n",
       "</div>"
      ],
      "text/plain": [
       "                  importance\n",
       "RECREL              0.210647\n",
       "NICNTHFLW           0.104776\n",
       "EDRSTHFLW           0.104498\n",
       "WDIRESELEVANALOG    0.088635\n",
       "ASHREL              0.077748\n",
       "EDRNTHFLW           0.051839\n",
       "STPALBFLW           0.050943\n",
       "NICRESELEVANALOG    0.050057\n",
       "NICSTHFLW           0.048772\n",
       "EDIRESELEVANALOG    0.038412"
      ]
     },
     "execution_count": 66,
     "metadata": {},
     "output_type": "execute_result"
    }
   ],
   "source": [
    "column_names = list(X.columns.values)\n",
    "feature_importances = pd.DataFrame(xgb.feature_importances_.reshape(-1,1),\n",
    "                                    index = column_names,\n",
    "                                    columns=['importance'])\n",
    "feature_importances.sort_values(by='importance', ascending=False).head(10)"
   ]
  },
  {
   "cell_type": "markdown",
   "metadata": {},
   "source": [
    "### Random Forest Regression"
   ]
  },
  {
   "cell_type": "code",
   "execution_count": 67,
   "metadata": {},
   "outputs": [],
   "source": [
    "from sklearn.ensemble import RandomForestRegressor"
   ]
  },
  {
   "cell_type": "code",
   "execution_count": 71,
   "metadata": {},
   "outputs": [
    {
     "name": "stderr",
     "output_type": "stream",
     "text": [
      "/Users/raei/anaconda3/lib/python3.7/site-packages/sklearn/model_selection/_split.py:2053: FutureWarning: You should specify a value for 'cv' instead of relying on the default value. The default value will change from 3 to 5 in version 0.22.\n",
      "  warnings.warn(CV_WARNING, FutureWarning)\n"
     ]
    },
    {
     "data": {
      "text/plain": [
       "GridSearchCV(cv='warn', error_score='raise-deprecating',\n",
       "       estimator=RandomForestRegressor(bootstrap=True, criterion='mse', max_depth=None,\n",
       "           max_features='auto', max_leaf_nodes=None,\n",
       "           min_impurity_decrease=0.0, min_impurity_split=None,\n",
       "           min_samples_leaf=1, min_samples_split=2,\n",
       "           min_weight_fraction_leaf=0.0, n_estimators='warn', n_jobs=None,\n",
       "           oob_score=False, random_state=None, verbose=0, warm_start=False),\n",
       "       fit_params=None, iid='warn', n_jobs=-1,\n",
       "       param_grid=[{'bootstrap': [True, False], 'n_estimators': [10, 100, 150, 200, 250, 300]}],\n",
       "       pre_dispatch='2*n_jobs', refit=True, return_train_score='warn',\n",
       "       scoring=None, verbose=0)"
      ]
     },
     "execution_count": 71,
     "metadata": {},
     "output_type": "execute_result"
    }
   ],
   "source": [
    "parameter_candidates = [\n",
    "  {'bootstrap': [True, False], 'n_estimators': [10, 100, 150, 200, 250, 300]}\n",
    "]\n",
    "grid_rfr = GridSearchCV(estimator=RandomForestRegressor(), param_grid=parameter_candidates, n_jobs=-1)\n",
    "grid_rfr.fit(X_train, y_train)"
   ]
  },
  {
   "cell_type": "code",
   "execution_count": 72,
   "metadata": {},
   "outputs": [
    {
     "data": {
      "text/plain": [
       "{'bootstrap': True, 'n_estimators': 150}"
      ]
     },
     "execution_count": 72,
     "metadata": {},
     "output_type": "execute_result"
    }
   ],
   "source": [
    "grid_rfr.best_params_"
   ]
  },
  {
   "cell_type": "code",
   "execution_count": 73,
   "metadata": {},
   "outputs": [
    {
     "name": "stdout",
     "output_type": "stream",
     "text": [
      "[18:38:57] WARNING: src/objective/regression_obj.cu:152: reg:linear is now deprecated in favor of reg:squarederror.\n"
     ]
    },
    {
     "name": "stderr",
     "output_type": "stream",
     "text": [
      "/Users/raei/anaconda3/lib/python3.7/site-packages/xgboost/core.py:587: FutureWarning: Series.base is deprecated and will be removed in a future version\n",
      "  if getattr(data, 'base', None) is not None and \\\n"
     ]
    },
    {
     "data": {
      "text/plain": [
       "XGBRegressor(base_score=0.5, booster='gbtree', bootstrap=True,\n",
       "       colsample_bylevel=1, colsample_bynode=1, colsample_bytree=1,\n",
       "       gamma=0, importance_type='gain', learning_rate=0.1,\n",
       "       max_delta_step=0, max_depth=3, min_child_weight=1, missing=None,\n",
       "       n_estimators=250, n_jobs=1, nthread=None, objective='reg:linear',\n",
       "       random_state=0, reg_alpha=0, reg_lambda=1, scale_pos_weight=1,\n",
       "       seed=None, silent=None, subsample=1, verbosity=1)"
      ]
     },
     "execution_count": 73,
     "metadata": {},
     "output_type": "execute_result"
    }
   ],
   "source": [
    "rfr = XGBRegressor(bootstrap= True, n_estimators= 250)\n",
    "rfr.fit(X_train, y_train)"
   ]
  },
  {
   "cell_type": "code",
   "execution_count": 74,
   "metadata": {},
   "outputs": [
    {
     "name": "stdout",
     "output_type": "stream",
     "text": [
      "Mean Absolute Error: 0.04239938306397405\n",
      "Mean Squared Error: 0.002807159717026175\n",
      "Root Mean Squared Error: 0.052982635995448314\n"
     ]
    }
   ],
   "source": [
    "y_pred = rfr.predict(X_test)\n",
    "print('Mean Absolute Error:', metrics.mean_absolute_error(y_test, y_pred))  \n",
    "print('Mean Squared Error:', metrics.mean_squared_error(y_test, y_pred))  \n",
    "print('Root Mean Squared Error:', np.sqrt(metrics.mean_squared_error(y_test, y_pred)))  "
   ]
  },
  {
   "cell_type": "markdown",
   "metadata": {},
   "source": [
    "----\n",
    "Comparing the RMSE of the Regression models."
   ]
  },
  {
   "cell_type": "code",
   "execution_count": 75,
   "metadata": {},
   "outputs": [
    {
     "name": "stdout",
     "output_type": "stream",
     "text": [
      "Root Mean Squared Error LR: 0.10648093662936757\n",
      "Root Mean Squared Error RFR: 0.052982635995448314\n",
      "Root Mean Squared Error XGB: 0.05332318118340837\n"
     ]
    }
   ],
   "source": [
    "print('Root Mean Squared Error LR:', np.sqrt(metrics.mean_squared_error(y_test, lr.predict(X_test)))) \n",
    "print('Root Mean Squared Error RFR:', np.sqrt(metrics.mean_squared_error(y_test, rfr.predict(X_test)))) \n",
    "print('Root Mean Squared Error XGB:', np.sqrt(metrics.mean_squared_error(y_test, xgb.predict(X_test))))"
   ]
  },
  {
   "cell_type": "markdown",
   "metadata": {},
   "source": [
    "The best regression model is **Random Forest Regressor**."
   ]
  },
  {
   "cell_type": "code",
   "execution_count": null,
   "metadata": {},
   "outputs": [],
   "source": [
    "EDRSTHFLW\t0.802875\n",
    "AUGEASTLEVANALOG\t0.645747\n",
    "WDIRESELEVANALOG\t0.608006"
   ]
  },
  {
   "cell_type": "code",
   "execution_count": 76,
   "metadata": {},
   "outputs": [
    {
     "data": {
      "text/html": [
       "<div>\n",
       "<style scoped>\n",
       "    .dataframe tbody tr th:only-of-type {\n",
       "        vertical-align: middle;\n",
       "    }\n",
       "\n",
       "    .dataframe tbody tr th {\n",
       "        vertical-align: top;\n",
       "    }\n",
       "\n",
       "    .dataframe thead th {\n",
       "        text-align: right;\n",
       "    }\n",
       "</style>\n",
       "<table border=\"1\" class=\"dataframe\">\n",
       "  <thead>\n",
       "    <tr style=\"text-align: right;\">\n",
       "      <th></th>\n",
       "      <th>importance</th>\n",
       "    </tr>\n",
       "  </thead>\n",
       "  <tbody>\n",
       "    <tr>\n",
       "      <th>RECREL</th>\n",
       "      <td>0.203938</td>\n",
       "    </tr>\n",
       "    <tr>\n",
       "      <th>ASHREL</th>\n",
       "      <td>0.103440</td>\n",
       "    </tr>\n",
       "    <tr>\n",
       "      <th>EDRSTHFLW</th>\n",
       "      <td>0.083522</td>\n",
       "    </tr>\n",
       "    <tr>\n",
       "      <th>WDIRESELEVANALOG</th>\n",
       "      <td>0.079356</td>\n",
       "    </tr>\n",
       "    <tr>\n",
       "      <th>EDRNTHFLW</th>\n",
       "      <td>0.075536</td>\n",
       "    </tr>\n",
       "    <tr>\n",
       "      <th>NICNTHFLW</th>\n",
       "      <td>0.068732</td>\n",
       "    </tr>\n",
       "    <tr>\n",
       "      <th>STPALBFLW</th>\n",
       "      <td>0.051068</td>\n",
       "    </tr>\n",
       "    <tr>\n",
       "      <th>NICRESELEVANALOG</th>\n",
       "      <td>0.050031</td>\n",
       "    </tr>\n",
       "    <tr>\n",
       "      <th>EDIRESELEVANALOG</th>\n",
       "      <td>0.048521</td>\n",
       "    </tr>\n",
       "    <tr>\n",
       "      <th>RECRESELEVANALOG</th>\n",
       "      <td>0.039384</td>\n",
       "    </tr>\n",
       "  </tbody>\n",
       "</table>\n",
       "</div>"
      ],
      "text/plain": [
       "                  importance\n",
       "RECREL              0.203938\n",
       "ASHREL              0.103440\n",
       "EDRSTHFLW           0.083522\n",
       "WDIRESELEVANALOG    0.079356\n",
       "EDRNTHFLW           0.075536\n",
       "NICNTHFLW           0.068732\n",
       "STPALBFLW           0.051068\n",
       "NICRESELEVANALOG    0.050031\n",
       "EDIRESELEVANALOG    0.048521\n",
       "RECRESELEVANALOG    0.039384"
      ]
     },
     "execution_count": 76,
     "metadata": {},
     "output_type": "execute_result"
    }
   ],
   "source": [
    "column_names = list(X.columns.values)\n",
    "feature_importances = pd.DataFrame(rfr.feature_importances_.reshape(-1,1),\n",
    "                                    index = column_names,\n",
    "                                    columns=['importance'])\n",
    "feature_importances.sort_values(by='importance', ascending=False).head(10)"
   ]
  },
  {
   "cell_type": "markdown",
   "metadata": {},
   "source": [
    "* Ashokan / A - West Hurley\n",
    "* Schoharie / S - Lansing\n",
    "* Rondout / REC\n",
    "* Neversink / NIC - Callicoon\n",
    "* Pepacton / ED - Long Eddy\n",
    "* Cannonsville / WD - Walton\n",
    "\n",
    "The most important features are **Rondout Flow/Release, Ashokan Flow/Release and Pepacton South Flow**."
   ]
  },
  {
   "cell_type": "code",
   "execution_count": 602,
   "metadata": {},
   "outputs": [
    {
     "data": {
      "image/png": "[encoded data removed]",
      "text/plain": [
       "<Figure size 360x360 with 1 Axes>"
      ]
     },
     "metadata": {
      "needs_background": "light"
     },
     "output_type": "display_data"
    }
   ],
   "source": [
    "plt.figure(figsize=(5,5))\n",
    "plt.scatter(y_test, rfr.predict(X_test), color='#01afd1')\n",
    "x = np.arange(0.5,1.5,.1)\n",
    "y = .8*x+0.15\n",
    "plt.xlim(0.5,1.4)\n",
    "plt.ylim(0.55,1.27)\n",
    "plt.xlabel('Actual', fontsize = 15)\n",
    "plt.ylabel('Predicted', fontsize = 15)\n",
    "plt.plot(x,y, c='#f6cd4c')\n",
    "plt.savefig('rfr.png', dpi=500, transparent=True)"
   ]
  },
  {
   "cell_type": "code",
   "execution_count": 601,
   "metadata": {},
   "outputs": [
    {
     "data": {
      "text/plain": [
       "0.55"
      ]
     },
     "execution_count": 601,
     "metadata": {},
     "output_type": "execute_result"
    }
   ],
   "source": [
    ".8*.5+0.15"
   ]
  }
 ],
 "metadata": {
  "kernelspec": {
   "display_name": "Python 3",
   "language": "python",
   "name": "python3"
  },
  "language_info": {
   "codemirror_mode": {
    "name": "ipython",
    "version": 3
   },
   "file_extension": ".py",
   "mimetype": "text/x-python",
   "name": "python",
   "nbconvert_exporter": "python",
   "pygments_lexer": "ipython3",
   "version": "3.7.3"
  }
 },
 "nbformat": 4,
 "nbformat_minor": 2
}
